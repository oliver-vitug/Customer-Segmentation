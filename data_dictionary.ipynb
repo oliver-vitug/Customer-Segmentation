{
 "cells": [
  {
   "cell_type": "markdown",
   "id": "41d944de-cfb9-4956-aae1-6bc9af8a4496",
   "metadata": {
    "tags": []
   },
   "source": [
    "# Data Dictionary"
   ]
  },
  {
   "cell_type": "markdown",
   "id": "630d1624-6229-4565-bfa6-943c65c45344",
   "metadata": {
    "tags": []
   },
   "source": [
    "**InvoiceNo:** A 6-digit integral number uniquely assigned to each transaction. If this code starts with letter 'c', it indicates a cancellation.\n",
    "\n",
    "**StockCode:** A 5-digit integral number uniquely assigned to each distinct product.\n",
    "\n",
    "**Description:** Product name.\n",
    "\n",
    "**Quantity:** The quantities of each product (item) per transaction.\n",
    "\n",
    "**InvoiceDate:** The day and time when each transaction was generated.\n",
    "\n",
    "**UnitPrice:** Product price per unit(Sterling).\n",
    "\n",
    "**CustomerID:** A 5-digit integral number uniquely assigned to each customer.\n",
    "\n",
    "**Country:** The name of the country where each customer resides."
   ]
  },
  {
   "cell_type": "markdown",
   "id": "4976a313-175f-4f99-a390-0e27f10fbb2a",
   "metadata": {},
   "source": [
    "# Additional info\n",
    "\n",
    "- InvoiceNo: Invoice number. Nominal, a 6-digit integral number uniquely assigned to each transaction. If this code starts with letter 'c', it -indicates a cancellation. \n",
    "- StockCode: Product (item) code. Nominal, a 5-digit integral number uniquely assigned to each distinct product.\n",
    "- Description: Product (item) name. Nominal.\n",
    "- Quantity: The quantities of each product (item) per transaction. Numeric.\t\n",
    "- InvoiceDate: Invoice Date and time. Numeric, the day and time when each transaction was generated.\n",
    "- UnitPrice: Unit price. Numeric, Product price per unit in sterling.\n",
    "- CustomerID: Customer number. Nominal, a 5-digit integral number uniquely assigned to each customer.\n",
    "- Country: Country name. Nominal, the name of the country where each customer resides. "
   ]
  },
  {
   "cell_type": "code",
   "execution_count": null,
   "id": "9d1dd811-36c4-40d0-879e-aa374088dd29",
   "metadata": {},
   "outputs": [],
   "source": []
  }
 ],
 "metadata": {
  "kernelspec": {
   "display_name": "Python 3 (ipykernel)",
   "language": "python",
   "name": "python3"
  },
  "language_info": {
   "codemirror_mode": {
    "name": "ipython",
    "version": 3
   },
   "file_extension": ".py",
   "mimetype": "text/x-python",
   "name": "python",
   "nbconvert_exporter": "python",
   "pygments_lexer": "ipython3",
   "version": "3.11.7"
  }
 },
 "nbformat": 4,
 "nbformat_minor": 5
}
