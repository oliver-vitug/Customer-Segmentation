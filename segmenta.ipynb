{
 "cells": [
  {
   "cell_type": "markdown",
   "id": "8351d41b-3679-4e85-b80b-fc084a0b27b4",
   "metadata": {},
   "source": [
    "# <center>Segmenta Project:<br> Customer Segmentation</center>"
   ]
  },
  {
   "cell_type": "markdown",
   "id": "5fab343b-2b1d-4b7f-beac-626df50e4347",
   "metadata": {},
   "source": [
    "<div style=\"text-align: center;\">\n",
    "  <img src=\"https://plus.unsplash.com/premium_photo-1683116663524-5a8a50ec79a4?q=80&w=1932&auto=format&fit=crop&ixlib=rb-4.0.3&ixid=M3wxMjA3fDB8MHxwaG90by1wYWdlfHx8fGVufDB8fHx8fA%3D%3D\" alt=\"shopping trolleys\" style=\"width: 600px;\">\n",
    "</div>"
   ]
  },
  {
   "cell_type": "markdown",
   "id": "d9ff970f-631e-48fc-8814-c5ebee501dec",
   "metadata": {
    "tags": []
   },
   "source": [
    "## Overview"
   ]
  },
  {
   "cell_type": "markdown",
   "id": "28f36f66-9a01-4549-9d56-894cb9f405ac",
   "metadata": {
    "tags": []
   },
   "source": [
    "A data analytics project focused on customer segmentation. This project aims to analyse customer behaviour and characteristics to identify distinct segments, helping businesses tailor their marketing strategies for optimal impact."
   ]
  },
  {
   "cell_type": "markdown",
   "id": "1646c098-0069-468c-a084-50d36891c0eb",
   "metadata": {
    "tags": []
   },
   "source": [
    "Features to Implement:\n",
    "- Data preprocessing and cleaning.\n",
    "- Application of clustering algorithms for segmentation.\n",
    "- Visualisation of customer segments.\n",
    "- Analysis of segment characteristics and insights.\n",
    "- Dataset Suggestion: The project can use the Online Retail Dataset from the UCI Machine Learning Repository, but you may use any dataset you deem as suitable\n",
    "\n",
    "Technologies:\n",
    "- Programming: Python (Pandas, NumPy, Matplotlib, Seaborn)\n",
    "- Machine Learning: scikit-learn\n",
    "- Visualisation: Matplotlib, Seaborn\n",
    "\n",
    "First Steps:\n",
    "- Introduction to the project's purpose and goals.\n",
    "- Discussion of the dataset and its relevance.\n",
    "- Overview of the clustering algorithms and analysis techniques.\n",
    "- Clarification of roles and responsibilities for each team member.\n",
    "- Setting up communication channels for efficient collaboration.\n",
    "- Project timeline review and milestone definition.\n",
    "- Q&A session for any inquiries.\n",
    "- Next Steps:\n",
    "\n",
    "Familiarize yourself with the dataset.\n",
    "- Begin data exploration and pre-processing.\n",
    "- Assign roles and responsibilities for each phase.\n",
    "- Schedule regular update meetings to ensure progress tracking."
   ]
  },
  {
   "cell_type": "markdown",
   "id": "6691ae85-7a9b-4296-9757-4b6332d08309",
   "metadata": {
    "tags": []
   },
   "source": [
    "## Objectives"
   ]
  },
  {
   "cell_type": "markdown",
   "id": "aa9ef752-d07a-42fd-8062-16dc4e56d179",
   "metadata": {
    "tags": []
   },
   "source": [
    "- Perform exploratory data analysis on the dataset to understand customer attributes.\n",
    "- Implement clustering algorithms to segment customers based on their behaviour and characteristics.\n",
    "- Visualise  customer segments.\n",
    "- Interpret the identified groups\n",
    "- Create suggestions for the business "
   ]
  },
  {
   "cell_type": "markdown",
   "id": "8901c571-b479-49f8-aa0a-cce14b3cd951",
   "metadata": {
    "tags": []
   },
   "source": [
    "## Contents\n",
    "- 1.0 The dataset\n",
    "- 2.0 EDA\n",
    "- 3.0 K-means clustering\n",
    "- 4.0 Sentiment Analysis\n",
    "- 5.0 Performance Analysis\n",
    "- 6.0 Toxic comment classifier\n",
    "- 7.0 Conclusions and Limitations"
   ]
  },
  {
   "cell_type": "markdown",
   "id": "669aa08f-203a-4cca-a077-53d05d12fab1",
   "metadata": {},
   "source": [
    "## 1.0 The dataset"
   ]
  },
  {
   "cell_type": "markdown",
   "id": "f4bb47dd-557d-4796-a83b-d7e88df05770",
   "metadata": {
    "tags": []
   },
   "source": [
    "### 1.1 Data importing"
   ]
  },
  {
   "cell_type": "code",
   "execution_count": 225,
   "id": "59834bd2-8361-4b7e-9601-14c7d39de3c0",
   "metadata": {
    "tags": []
   },
   "outputs": [],
   "source": [
    "import pandas as pd\n",
    "import numpy as np\n",
    "import scipy\n",
    "\n",
    "# Libraries for visualisations\n",
    "import seaborn as sns \n",
    "import matplotlib.pyplot as plt\n",
    "from sklearn.preprocessing import StandardScaler\n",
    "from sklearn.compose import ColumnTransformer\n",
    "\n",
    "# Clustering\n",
    "from sklearn.cluster import KMeans\n",
    "from sklearn.metrics import davies_bouldin_score, silhouette_score\n",
    "\n",
    "from sklearn.decomposition import PCA\n",
    "\n",
    "import pickle"
   ]
  },
  {
   "cell_type": "code",
   "execution_count": 16,
   "id": "d7fa9960-9292-4be8-b134-2ea47101e761",
   "metadata": {
    "tags": []
   },
   "outputs": [
    {
     "name": "stderr",
     "output_type": "stream",
     "text": [
      "C:\\Users\\olive\\AppData\\Local\\Temp\\ipykernel_15772\\841174412.py:2: DtypeWarning: Columns (3,5,6) have mixed types. Specify dtype option on import or set low_memory=False.\n",
      "  df = pd.read_csv('Online Retail - Online Retail.csv', header=None)\n"
     ]
    }
   ],
   "source": [
    "# Import data from csv files\n",
    "df = pd.read_csv('Online Retail - Online Retail.csv', header=None)\n",
    "retail_df = df.copy()\n",
    "retail_df.columns = retail_df.iloc[0] # Set our column headers\n",
    "retail_df = retail_df[1:]"
   ]
  },
  {
   "cell_type": "code",
   "execution_count": 17,
   "id": "9ac5ed0e-52f8-4ca3-998f-e8ff0c3b1b8a",
   "metadata": {
    "tags": []
   },
   "outputs": [
    {
     "data": {
      "text/html": [
       "<div>\n",
       "<style scoped>\n",
       "    .dataframe tbody tr th:only-of-type {\n",
       "        vertical-align: middle;\n",
       "    }\n",
       "\n",
       "    .dataframe tbody tr th {\n",
       "        vertical-align: top;\n",
       "    }\n",
       "\n",
       "    .dataframe thead th {\n",
       "        text-align: right;\n",
       "    }\n",
       "</style>\n",
       "<table border=\"1\" class=\"dataframe\">\n",
       "  <thead>\n",
       "    <tr style=\"text-align: right;\">\n",
       "      <th></th>\n",
       "      <th>InvoiceNo</th>\n",
       "      <th>StockCode</th>\n",
       "      <th>Description</th>\n",
       "      <th>Quantity</th>\n",
       "      <th>InvoiceDate</th>\n",
       "      <th>UnitPrice</th>\n",
       "      <th>CustomerID</th>\n",
       "      <th>Country</th>\n",
       "    </tr>\n",
       "  </thead>\n",
       "  <tbody>\n",
       "    <tr>\n",
       "      <th>1</th>\n",
       "      <td>536365</td>\n",
       "      <td>85123A</td>\n",
       "      <td>WHITE HANGING HEART T-LIGHT HOLDER</td>\n",
       "      <td>6</td>\n",
       "      <td>12/1/10 8:26</td>\n",
       "      <td>2.55</td>\n",
       "      <td>17850</td>\n",
       "      <td>United Kingdom</td>\n",
       "    </tr>\n",
       "    <tr>\n",
       "      <th>2</th>\n",
       "      <td>536365</td>\n",
       "      <td>71053</td>\n",
       "      <td>WHITE METAL LANTERN</td>\n",
       "      <td>6</td>\n",
       "      <td>12/1/10 8:26</td>\n",
       "      <td>3.39</td>\n",
       "      <td>17850</td>\n",
       "      <td>United Kingdom</td>\n",
       "    </tr>\n",
       "    <tr>\n",
       "      <th>3</th>\n",
       "      <td>536365</td>\n",
       "      <td>84406B</td>\n",
       "      <td>CREAM CUPID HEARTS COAT HANGER</td>\n",
       "      <td>8</td>\n",
       "      <td>12/1/10 8:26</td>\n",
       "      <td>2.75</td>\n",
       "      <td>17850</td>\n",
       "      <td>United Kingdom</td>\n",
       "    </tr>\n",
       "    <tr>\n",
       "      <th>4</th>\n",
       "      <td>536365</td>\n",
       "      <td>84029G</td>\n",
       "      <td>KNITTED UNION FLAG HOT WATER BOTTLE</td>\n",
       "      <td>6</td>\n",
       "      <td>12/1/10 8:26</td>\n",
       "      <td>3.39</td>\n",
       "      <td>17850</td>\n",
       "      <td>United Kingdom</td>\n",
       "    </tr>\n",
       "    <tr>\n",
       "      <th>5</th>\n",
       "      <td>536365</td>\n",
       "      <td>84029E</td>\n",
       "      <td>RED WOOLLY HOTTIE WHITE HEART.</td>\n",
       "      <td>6</td>\n",
       "      <td>12/1/10 8:26</td>\n",
       "      <td>3.39</td>\n",
       "      <td>17850</td>\n",
       "      <td>United Kingdom</td>\n",
       "    </tr>\n",
       "  </tbody>\n",
       "</table>\n",
       "</div>"
      ],
      "text/plain": [
       "0 InvoiceNo StockCode                          Description Quantity  \\\n",
       "1    536365    85123A   WHITE HANGING HEART T-LIGHT HOLDER        6   \n",
       "2    536365     71053                  WHITE METAL LANTERN        6   \n",
       "3    536365    84406B       CREAM CUPID HEARTS COAT HANGER        8   \n",
       "4    536365    84029G  KNITTED UNION FLAG HOT WATER BOTTLE        6   \n",
       "5    536365    84029E       RED WOOLLY HOTTIE WHITE HEART.        6   \n",
       "\n",
       "0   InvoiceDate UnitPrice CustomerID         Country  \n",
       "1  12/1/10 8:26      2.55      17850  United Kingdom  \n",
       "2  12/1/10 8:26      3.39      17850  United Kingdom  \n",
       "3  12/1/10 8:26      2.75      17850  United Kingdom  \n",
       "4  12/1/10 8:26      3.39      17850  United Kingdom  \n",
       "5  12/1/10 8:26      3.39      17850  United Kingdom  "
      ]
     },
     "execution_count": 17,
     "metadata": {},
     "output_type": "execute_result"
    }
   ],
   "source": [
    "# A first look at the data\n",
    "retail_df.head()"
   ]
  },
  {
   "cell_type": "code",
   "execution_count": 18,
   "id": "ece2f665-19f9-4da1-b8a0-2b9a22eec0eb",
   "metadata": {
    "tags": []
   },
   "outputs": [
    {
     "data": {
      "text/plain": [
       "(541909, 8)"
      ]
     },
     "execution_count": 18,
     "metadata": {},
     "output_type": "execute_result"
    }
   ],
   "source": [
    "# Check number of observations and columns\n",
    "retail_df.shape"
   ]
  },
  {
   "cell_type": "code",
   "execution_count": 19,
   "id": "3ba27e47-c474-4ba3-b3b0-75f267f15ad8",
   "metadata": {
    "tags": []
   },
   "outputs": [
    {
     "name": "stdout",
     "output_type": "stream",
     "text": [
      "<class 'pandas.core.frame.DataFrame'>\n",
      "RangeIndex: 541909 entries, 1 to 541909\n",
      "Data columns (total 8 columns):\n",
      " #   Column       Non-Null Count   Dtype \n",
      "---  ------       --------------   ----- \n",
      " 0   InvoiceNo    541909 non-null  object\n",
      " 1   StockCode    541909 non-null  object\n",
      " 2   Description  540455 non-null  object\n",
      " 3   Quantity     541909 non-null  object\n",
      " 4   InvoiceDate  541909 non-null  object\n",
      " 5   UnitPrice    541909 non-null  object\n",
      " 6   CustomerID   406829 non-null  object\n",
      " 7   Country      541909 non-null  object\n",
      "dtypes: object(8)\n",
      "memory usage: 33.1+ MB\n"
     ]
    }
   ],
   "source": [
    "retail_df.info()"
   ]
  },
  {
   "cell_type": "markdown",
   "id": "148ca877-5f74-470c-8e6b-41fbfb0cd527",
   "metadata": {},
   "source": [
    "**Note: No null values exept in CustomerID column.**"
   ]
  },
  {
   "cell_type": "markdown",
   "id": "d28f17fc-50da-4491-91b4-e00e4a9038ac",
   "metadata": {},
   "source": [
    "   "
   ]
  },
  {
   "cell_type": "markdown",
   "id": "688ffc78-7f1c-4f51-9840-86b5c5abfc2b",
   "metadata": {
    "tags": []
   },
   "source": [
    "## 2.0 Exploratory Data Analysis"
   ]
  },
  {
   "cell_type": "markdown",
   "id": "f4b8a939-409c-4c9e-bf03-d1a085ee9168",
   "metadata": {},
   "source": [
    "### Converting data types for analysis"
   ]
  },
  {
   "cell_type": "code",
   "execution_count": 24,
   "id": "db69b02d-411f-4749-b261-3cc3a5c57045",
   "metadata": {
    "tags": []
   },
   "outputs": [
    {
     "name": "stdout",
     "output_type": "stream",
     "text": [
      "0\n",
      "InvoiceNo              object\n",
      "StockCode              object\n",
      "Description            object\n",
      "Quantity                int32\n",
      "InvoiceDate    datetime64[ns]\n",
      "UnitPrice             float64\n",
      "CustomerID             object\n",
      "Country                object\n",
      "dtype: object\n"
     ]
    }
   ],
   "source": [
    "# Convert data types\n",
    "retail_df['Description'] = retail_df['Description'].astype(str)\n",
    "retail_df['Quantity'] = retail_df['Quantity'].astype(int)\n",
    "retail_df['UnitPrice'] = retail_df['UnitPrice'].astype(float)\n",
    "retail_df['Country'] = retail_df['Country'].astype(str)\n",
    "# Convert InvoiceDate to datetime format\n",
    "retail_df['InvoiceDate'] = pd.to_datetime(retail_df['InvoiceDate'], format='%m/%d/%y %H:%M')\n",
    "\n",
    "# Display the data types to confirm\n",
    "print(retail_df.dtypes)"
   ]
  },
  {
   "cell_type": "markdown",
   "id": "72badee2-23ee-4b91-8c57-af716fa6e8f5",
   "metadata": {},
   "source": [
    "### 2.1 Exploring retail data"
   ]
  },
  {
   "cell_type": "code",
   "execution_count": 26,
   "id": "738014a0-51af-4920-9690-d4180dfe2c5a",
   "metadata": {
    "tags": []
   },
   "outputs": [
    {
     "name": "stdout",
     "output_type": "stream",
     "text": [
      "Max = 80995, Min = -80995\n"
     ]
    }
   ],
   "source": [
    "min_value = retail_df['Quantity'].min()\n",
    "max_value = retail_df['Quantity'].max()\n",
    "\n",
    "print(f\"Max = {max_value}, Min = {min_value}\")"
   ]
  },
  {
   "cell_type": "markdown",
   "id": "b1b6e1b3-e3f0-4c2e-8af5-b36b0a393a86",
   "metadata": {},
   "source": [
    "**Note: From the checks we see that cancelled orders give negative quantity values. We can seperate these into two seperate dataframes.**"
   ]
  },
  {
   "cell_type": "code",
   "execution_count": 28,
   "id": "5e2922a9-11df-492f-a656-ee7c84d8799d",
   "metadata": {
    "tags": []
   },
   "outputs": [
    {
     "data": {
      "text/html": [
       "<div>\n",
       "<style scoped>\n",
       "    .dataframe tbody tr th:only-of-type {\n",
       "        vertical-align: middle;\n",
       "    }\n",
       "\n",
       "    .dataframe tbody tr th {\n",
       "        vertical-align: top;\n",
       "    }\n",
       "\n",
       "    .dataframe thead th {\n",
       "        text-align: right;\n",
       "    }\n",
       "</style>\n",
       "<table border=\"1\" class=\"dataframe\">\n",
       "  <thead>\n",
       "    <tr style=\"text-align: right;\">\n",
       "      <th></th>\n",
       "      <th>InvoiceNo</th>\n",
       "      <th>StockCode</th>\n",
       "      <th>Description</th>\n",
       "      <th>Quantity</th>\n",
       "      <th>InvoiceDate</th>\n",
       "      <th>UnitPrice</th>\n",
       "      <th>CustomerID</th>\n",
       "      <th>Country</th>\n",
       "    </tr>\n",
       "  </thead>\n",
       "  <tbody>\n",
       "    <tr>\n",
       "      <th>0</th>\n",
       "      <td>581483</td>\n",
       "      <td>23843</td>\n",
       "      <td>PAPER CRAFT , LITTLE BIRDIE</td>\n",
       "      <td>80995</td>\n",
       "      <td>2011-12-09 09:15:00</td>\n",
       "      <td>2.08</td>\n",
       "      <td>16446.0</td>\n",
       "      <td>United Kingdom</td>\n",
       "    </tr>\n",
       "    <tr>\n",
       "      <th>1</th>\n",
       "      <td>C581484</td>\n",
       "      <td>23843</td>\n",
       "      <td>PAPER CRAFT , LITTLE BIRDIE</td>\n",
       "      <td>-80995</td>\n",
       "      <td>2011-12-09 09:27:00</td>\n",
       "      <td>2.08</td>\n",
       "      <td>16446.0</td>\n",
       "      <td>United Kingdom</td>\n",
       "    </tr>\n",
       "  </tbody>\n",
       "</table>\n",
       "</div>"
      ],
      "text/plain": [
       "0 InvoiceNo StockCode                  Description  Quantity  \\\n",
       "0    581483     23843  PAPER CRAFT , LITTLE BIRDIE     80995   \n",
       "1   C581484     23843  PAPER CRAFT , LITTLE BIRDIE    -80995   \n",
       "\n",
       "0         InvoiceDate  UnitPrice CustomerID         Country  \n",
       "0 2011-12-09 09:15:00       2.08    16446.0  United Kingdom  \n",
       "1 2011-12-09 09:27:00       2.08    16446.0  United Kingdom  "
      ]
     },
     "execution_count": 28,
     "metadata": {},
     "output_type": "execute_result"
    }
   ],
   "source": [
    "max_row = retail_df[retail_df['Quantity'] == 80995]\n",
    "min_row = retail_df[retail_df['Quantity'] == -80995]\n",
    "min_max = pd.concat([max_row, min_row], ignore_index=True)\n",
    "\n",
    "min_max"
   ]
  },
  {
   "cell_type": "markdown",
   "id": "69cb8e1a-0724-4702-84c1-562530b85086",
   "metadata": {
    "tags": []
   },
   "source": [
    "**Note: As we can see the cancelled orders retain the original order(different invoiceNo) in the dataset which is misleading as the order did not result in any sales therefore, we should remove the original order and seperate the cancelled order into a seperate dataframe.**"
   ]
  },
  {
   "cell_type": "markdown",
   "id": "6bf877e3-06da-4e4e-a1e0-a058c1a58326",
   "metadata": {
    "tags": []
   },
   "source": [
    "### 2.11 Creating seperate dataframes for completed and cancelled orders"
   ]
  },
  {
   "cell_type": "code",
   "execution_count": 31,
   "id": "6a42fe4f-2b24-4a27-ac96-bc528d9ced78",
   "metadata": {
    "tags": []
   },
   "outputs": [],
   "source": [
    "# Example: fill NaN values with a placeholder (CustomerID)\n",
    "retail_df = retail_df.fillna('Unknown')  # Replace NaN with 'Unknown' or appropriate placeholder\n",
    "\n",
    "\n",
    "# Separate the DataFrame into positive and negative quantities\n",
    "positive_df = retail_df[retail_df['Quantity'] > 0].copy()\n",
    "negative_df = retail_df[retail_df['Quantity'] < 0].copy()\n",
    "\n",
    "# Create a unique identifier for matching rows\n",
    "positive_df['identifier'] = (positive_df['StockCode'].astype(str) + '_' +\n",
    "                              positive_df['Description'].astype(str) + '_' +\n",
    "                              positive_df['UnitPrice'].astype(str) + '_' +\n",
    "                              positive_df['CustomerID'].astype(str) + '_' +\n",
    "                              positive_df['Country'].astype(str))\n",
    "\n",
    "negative_df['identifier'] = (negative_df['StockCode'].astype(str) + '_' +\n",
    "                              negative_df['Description'].astype(str) + '_' +\n",
    "                              negative_df['UnitPrice'].astype(str) + '_' +\n",
    "                              negative_df['CustomerID'].astype(str) + '_' +\n",
    "                              negative_df['Country'].astype(str))\n",
    "\n",
    "# Find matching positive and negative rows\n",
    "merged_df = pd.merge(\n",
    "    positive_df,\n",
    "    negative_df,\n",
    "    on='identifier',\n",
    "    suffixes=('_positive', '_negative'),\n",
    "    how='inner'  # Ensure that only matching rows are kept\n",
    ")\n",
    "\n",
    "# Filter to find exact quantity matches (positive with corresponding negative)\n",
    "matching_pairs = merged_df[merged_df['Quantity_positive'] == -merged_df['Quantity_negative']]\n",
    "\n",
    "# Get identifiers of rows to remove from the positive DataFrame\n",
    "identifiers_to_remove = matching_pairs['identifier'].unique()\n",
    "\n",
    "# Remove matching positive rows\n",
    "cleaned_positive_df = positive_df[~positive_df['identifier'].isin(identifiers_to_remove)]\n",
    "\n",
    "# Create DataFrame for cancelled orders (all negative quantities)\n",
    "cancelled_order_df = negative_df[~negative_df['identifier'].isin(\n",
    "    matching_pairs['identifier'].unique())]\n",
    "\n",
    "# Remove the additional identifier columns\n",
    "cleaned_positive_df = cleaned_positive_df.drop(columns=['identifier'])\n",
    "cancelled_order_df = cancelled_order_df.drop(columns=['identifier'])"
   ]
  },
  {
   "cell_type": "code",
   "execution_count": 32,
   "id": "9c5baaf0-5f2a-4e57-b9d0-dcac003f4510",
   "metadata": {
    "tags": []
   },
   "outputs": [
    {
     "data": {
      "text/html": [
       "<div>\n",
       "<style scoped>\n",
       "    .dataframe tbody tr th:only-of-type {\n",
       "        vertical-align: middle;\n",
       "    }\n",
       "\n",
       "    .dataframe tbody tr th {\n",
       "        vertical-align: top;\n",
       "    }\n",
       "\n",
       "    .dataframe thead th {\n",
       "        text-align: right;\n",
       "    }\n",
       "</style>\n",
       "<table border=\"1\" class=\"dataframe\">\n",
       "  <thead>\n",
       "    <tr style=\"text-align: right;\">\n",
       "      <th></th>\n",
       "      <th>InvoiceNo</th>\n",
       "      <th>StockCode</th>\n",
       "      <th>Description</th>\n",
       "      <th>Quantity</th>\n",
       "      <th>InvoiceDate</th>\n",
       "      <th>UnitPrice</th>\n",
       "      <th>CustomerID</th>\n",
       "      <th>Country</th>\n",
       "    </tr>\n",
       "  </thead>\n",
       "  <tbody>\n",
       "    <tr>\n",
       "      <th>1</th>\n",
       "      <td>536365</td>\n",
       "      <td>85123A</td>\n",
       "      <td>WHITE HANGING HEART T-LIGHT HOLDER</td>\n",
       "      <td>6</td>\n",
       "      <td>2010-12-01 08:26:00</td>\n",
       "      <td>2.55</td>\n",
       "      <td>17850</td>\n",
       "      <td>United Kingdom</td>\n",
       "    </tr>\n",
       "    <tr>\n",
       "      <th>2</th>\n",
       "      <td>536365</td>\n",
       "      <td>71053</td>\n",
       "      <td>WHITE METAL LANTERN</td>\n",
       "      <td>6</td>\n",
       "      <td>2010-12-01 08:26:00</td>\n",
       "      <td>3.39</td>\n",
       "      <td>17850</td>\n",
       "      <td>United Kingdom</td>\n",
       "    </tr>\n",
       "    <tr>\n",
       "      <th>3</th>\n",
       "      <td>536365</td>\n",
       "      <td>84406B</td>\n",
       "      <td>CREAM CUPID HEARTS COAT HANGER</td>\n",
       "      <td>8</td>\n",
       "      <td>2010-12-01 08:26:00</td>\n",
       "      <td>2.75</td>\n",
       "      <td>17850</td>\n",
       "      <td>United Kingdom</td>\n",
       "    </tr>\n",
       "    <tr>\n",
       "      <th>4</th>\n",
       "      <td>536365</td>\n",
       "      <td>84029G</td>\n",
       "      <td>KNITTED UNION FLAG HOT WATER BOTTLE</td>\n",
       "      <td>6</td>\n",
       "      <td>2010-12-01 08:26:00</td>\n",
       "      <td>3.39</td>\n",
       "      <td>17850</td>\n",
       "      <td>United Kingdom</td>\n",
       "    </tr>\n",
       "    <tr>\n",
       "      <th>5</th>\n",
       "      <td>536365</td>\n",
       "      <td>84029E</td>\n",
       "      <td>RED WOOLLY HOTTIE WHITE HEART.</td>\n",
       "      <td>6</td>\n",
       "      <td>2010-12-01 08:26:00</td>\n",
       "      <td>3.39</td>\n",
       "      <td>17850</td>\n",
       "      <td>United Kingdom</td>\n",
       "    </tr>\n",
       "  </tbody>\n",
       "</table>\n",
       "</div>"
      ],
      "text/plain": [
       "0 InvoiceNo StockCode                          Description  Quantity  \\\n",
       "1    536365    85123A   WHITE HANGING HEART T-LIGHT HOLDER         6   \n",
       "2    536365     71053                  WHITE METAL LANTERN         6   \n",
       "3    536365    84406B       CREAM CUPID HEARTS COAT HANGER         8   \n",
       "4    536365    84029G  KNITTED UNION FLAG HOT WATER BOTTLE         6   \n",
       "5    536365    84029E       RED WOOLLY HOTTIE WHITE HEART.         6   \n",
       "\n",
       "0         InvoiceDate  UnitPrice CustomerID         Country  \n",
       "1 2010-12-01 08:26:00       2.55      17850  United Kingdom  \n",
       "2 2010-12-01 08:26:00       3.39      17850  United Kingdom  \n",
       "3 2010-12-01 08:26:00       2.75      17850  United Kingdom  \n",
       "4 2010-12-01 08:26:00       3.39      17850  United Kingdom  \n",
       "5 2010-12-01 08:26:00       3.39      17850  United Kingdom  "
      ]
     },
     "execution_count": 32,
     "metadata": {},
     "output_type": "execute_result"
    }
   ],
   "source": [
    "# Checking our completed order dataframe\n",
    "cleaned_positive_df.head()"
   ]
  },
  {
   "cell_type": "markdown",
   "id": "c0d665b1-a0d1-46c0-bc07-4d91521e2613",
   "metadata": {},
   "source": [
    "### 2.12 Checking how quantity changes with Unit price"
   ]
  },
  {
   "cell_type": "code",
   "execution_count": 34,
   "id": "e8c3bc6b-552e-4907-8cb4-534a22cc580c",
   "metadata": {
    "tags": []
   },
   "outputs": [
    {
     "data": {
      "image/png": "[encoded data removed]",
      "text/plain": [
       "<Figure size 1000x600 with 1 Axes>"
      ]
     },
     "metadata": {},
     "output_type": "display_data"
    }
   ],
   "source": [
    "# Scatter plot of Quantity vs UnitPrice\n",
    "plt.figure(figsize=(10, 6))\n",
    "sns.scatterplot(data=cleaned_positive_df, x='UnitPrice', y='Quantity', alpha=0.7, edgecolor=None)\n",
    "plt.title('Scatter Plot of Quantity vs UnitPrice')\n",
    "plt.xlabel('UnitPrice')\n",
    "plt.ylabel('Quantity')\n",
    "plt.grid(True)\n",
    "plt.show()"
   ]
  },
  {
   "cell_type": "markdown",
   "id": "7d2d0573-839b-4bb3-830c-53461f72aff1",
   "metadata": {},
   "source": [
    "**Note: Unsuprisingly we can see that the cheaper items tend to be bought in higher quantities however what is suprising is that the is a negative value for unitprice.**"
   ]
  },
  {
   "cell_type": "code",
   "execution_count": 36,
   "id": "20e299b0-ce1c-4fd4-8efc-4216d58a2c20",
   "metadata": {
    "tags": []
   },
   "outputs": [
    {
     "name": "stdout",
     "output_type": "stream",
     "text": [
      "Max = 11062.06, Min = -11062.06\n"
     ]
    }
   ],
   "source": [
    "min_value = cleaned_positive_df['UnitPrice'].min()\n",
    "max_value = cleaned_positive_df['UnitPrice'].max()\n",
    "\n",
    "print(f\"Max = {max_value}, Min = {min_value}\")"
   ]
  },
  {
   "cell_type": "code",
   "execution_count": 37,
   "id": "13814ef1-f66a-4fe4-bb5e-38ac099cb94d",
   "metadata": {
    "tags": []
   },
   "outputs": [
    {
     "data": {
      "text/html": [
       "<div>\n",
       "<style scoped>\n",
       "    .dataframe tbody tr th:only-of-type {\n",
       "        vertical-align: middle;\n",
       "    }\n",
       "\n",
       "    .dataframe tbody tr th {\n",
       "        vertical-align: top;\n",
       "    }\n",
       "\n",
       "    .dataframe thead th {\n",
       "        text-align: right;\n",
       "    }\n",
       "</style>\n",
       "<table border=\"1\" class=\"dataframe\">\n",
       "  <thead>\n",
       "    <tr style=\"text-align: right;\">\n",
       "      <th></th>\n",
       "      <th>InvoiceNo</th>\n",
       "      <th>StockCode</th>\n",
       "      <th>Description</th>\n",
       "      <th>Quantity</th>\n",
       "      <th>InvoiceDate</th>\n",
       "      <th>UnitPrice</th>\n",
       "      <th>CustomerID</th>\n",
       "      <th>Country</th>\n",
       "    </tr>\n",
       "  </thead>\n",
       "  <tbody>\n",
       "    <tr>\n",
       "      <th>0</th>\n",
       "      <td>A563185</td>\n",
       "      <td>B</td>\n",
       "      <td>Adjust bad debt</td>\n",
       "      <td>1</td>\n",
       "      <td>2011-08-12 14:50:00</td>\n",
       "      <td>11062.06</td>\n",
       "      <td>Unknown</td>\n",
       "      <td>United Kingdom</td>\n",
       "    </tr>\n",
       "    <tr>\n",
       "      <th>1</th>\n",
       "      <td>A563186</td>\n",
       "      <td>B</td>\n",
       "      <td>Adjust bad debt</td>\n",
       "      <td>1</td>\n",
       "      <td>2011-08-12 14:51:00</td>\n",
       "      <td>-11062.06</td>\n",
       "      <td>Unknown</td>\n",
       "      <td>United Kingdom</td>\n",
       "    </tr>\n",
       "    <tr>\n",
       "      <th>2</th>\n",
       "      <td>A563187</td>\n",
       "      <td>B</td>\n",
       "      <td>Adjust bad debt</td>\n",
       "      <td>1</td>\n",
       "      <td>2011-08-12 14:52:00</td>\n",
       "      <td>-11062.06</td>\n",
       "      <td>Unknown</td>\n",
       "      <td>United Kingdom</td>\n",
       "    </tr>\n",
       "  </tbody>\n",
       "</table>\n",
       "</div>"
      ],
      "text/plain": [
       "0 InvoiceNo StockCode      Description  Quantity         InvoiceDate  \\\n",
       "0   A563185         B  Adjust bad debt         1 2011-08-12 14:50:00   \n",
       "1   A563186         B  Adjust bad debt         1 2011-08-12 14:51:00   \n",
       "2   A563187         B  Adjust bad debt         1 2011-08-12 14:52:00   \n",
       "\n",
       "0  UnitPrice CustomerID         Country  \n",
       "0   11062.06    Unknown  United Kingdom  \n",
       "1  -11062.06    Unknown  United Kingdom  \n",
       "2  -11062.06    Unknown  United Kingdom  "
      ]
     },
     "execution_count": 37,
     "metadata": {},
     "output_type": "execute_result"
    }
   ],
   "source": [
    "max_row = cleaned_positive_df[cleaned_positive_df['UnitPrice'] == 11062.06]\n",
    "min_row = cleaned_positive_df[cleaned_positive_df['UnitPrice'] == -11062.06]\n",
    "min_max = pd.concat([max_row, min_row], ignore_index=True)\n",
    "\n",
    "min_max"
   ]
  },
  {
   "cell_type": "markdown",
   "id": "50b7d938-2122-4c2f-8334-4f114a0295a1",
   "metadata": {
    "tags": []
   },
   "source": [
    "**Note: It looks like this cancelled order was entered twice into the dataframe.**"
   ]
  },
  {
   "cell_type": "code",
   "execution_count": 39,
   "id": "b06c2b7a-947e-47a7-ad81-9cce66a6470d",
   "metadata": {
    "tags": []
   },
   "outputs": [
    {
     "data": {
      "text/html": [
       "<div>\n",
       "<style scoped>\n",
       "    .dataframe tbody tr th:only-of-type {\n",
       "        vertical-align: middle;\n",
       "    }\n",
       "\n",
       "    .dataframe tbody tr th {\n",
       "        vertical-align: top;\n",
       "    }\n",
       "\n",
       "    .dataframe thead th {\n",
       "        text-align: right;\n",
       "    }\n",
       "</style>\n",
       "<table border=\"1\" class=\"dataframe\">\n",
       "  <thead>\n",
       "    <tr style=\"text-align: right;\">\n",
       "      <th></th>\n",
       "      <th>InvoiceNo</th>\n",
       "      <th>StockCode</th>\n",
       "      <th>Description</th>\n",
       "      <th>Quantity</th>\n",
       "      <th>InvoiceDate</th>\n",
       "      <th>UnitPrice</th>\n",
       "      <th>CustomerID</th>\n",
       "      <th>Country</th>\n",
       "    </tr>\n",
       "  </thead>\n",
       "  <tbody>\n",
       "    <tr>\n",
       "      <th>299983</th>\n",
       "      <td>A563185</td>\n",
       "      <td>B</td>\n",
       "      <td>Adjust bad debt</td>\n",
       "      <td>1</td>\n",
       "      <td>2011-08-12 14:50:00</td>\n",
       "      <td>11062.06</td>\n",
       "      <td>Unknown</td>\n",
       "      <td>United Kingdom</td>\n",
       "    </tr>\n",
       "  </tbody>\n",
       "</table>\n",
       "</div>"
      ],
      "text/plain": [
       "0      InvoiceNo StockCode      Description  Quantity         InvoiceDate  \\\n",
       "299983   A563185         B  Adjust bad debt         1 2011-08-12 14:50:00   \n",
       "\n",
       "0       UnitPrice CustomerID         Country  \n",
       "299983   11062.06    Unknown  United Kingdom  "
      ]
     },
     "execution_count": 39,
     "metadata": {},
     "output_type": "execute_result"
    }
   ],
   "source": [
    "max_row = cleaned_positive_df[cleaned_positive_df['InvoiceNo'] == 'A563185']\n",
    "max_row"
   ]
  },
  {
   "cell_type": "code",
   "execution_count": 40,
   "id": "d9ab298a-15c4-479b-a1dd-5d0b2d92514f",
   "metadata": {
    "tags": []
   },
   "outputs": [
    {
     "data": {
      "text/html": [
       "<div>\n",
       "<style scoped>\n",
       "    .dataframe tbody tr th:only-of-type {\n",
       "        vertical-align: middle;\n",
       "    }\n",
       "\n",
       "    .dataframe tbody tr th {\n",
       "        vertical-align: top;\n",
       "    }\n",
       "\n",
       "    .dataframe thead th {\n",
       "        text-align: right;\n",
       "    }\n",
       "</style>\n",
       "<table border=\"1\" class=\"dataframe\">\n",
       "  <thead>\n",
       "    <tr style=\"text-align: right;\">\n",
       "      <th></th>\n",
       "      <th>InvoiceNo</th>\n",
       "      <th>StockCode</th>\n",
       "      <th>Description</th>\n",
       "      <th>Quantity</th>\n",
       "      <th>InvoiceDate</th>\n",
       "      <th>UnitPrice</th>\n",
       "      <th>CustomerID</th>\n",
       "      <th>Country</th>\n",
       "    </tr>\n",
       "  </thead>\n",
       "  <tbody>\n",
       "    <tr>\n",
       "      <th>299984</th>\n",
       "      <td>A563186</td>\n",
       "      <td>B</td>\n",
       "      <td>Adjust bad debt</td>\n",
       "      <td>1</td>\n",
       "      <td>2011-08-12 14:51:00</td>\n",
       "      <td>-11062.06</td>\n",
       "      <td>Unknown</td>\n",
       "      <td>United Kingdom</td>\n",
       "    </tr>\n",
       "  </tbody>\n",
       "</table>\n",
       "</div>"
      ],
      "text/plain": [
       "0      InvoiceNo StockCode      Description  Quantity         InvoiceDate  \\\n",
       "299984   A563186         B  Adjust bad debt         1 2011-08-12 14:51:00   \n",
       "\n",
       "0       UnitPrice CustomerID         Country  \n",
       "299984  -11062.06    Unknown  United Kingdom  "
      ]
     },
     "execution_count": 40,
     "metadata": {},
     "output_type": "execute_result"
    }
   ],
   "source": [
    "min_row = cleaned_positive_df[cleaned_positive_df['InvoiceNo'] == 'A563186']\n",
    "min_row"
   ]
  },
  {
   "cell_type": "code",
   "execution_count": 41,
   "id": "8bd0e593-1d92-459c-879b-403067ab1cd1",
   "metadata": {
    "tags": []
   },
   "outputs": [
    {
     "data": {
      "text/html": [
       "<div>\n",
       "<style scoped>\n",
       "    .dataframe tbody tr th:only-of-type {\n",
       "        vertical-align: middle;\n",
       "    }\n",
       "\n",
       "    .dataframe tbody tr th {\n",
       "        vertical-align: top;\n",
       "    }\n",
       "\n",
       "    .dataframe thead th {\n",
       "        text-align: right;\n",
       "    }\n",
       "</style>\n",
       "<table border=\"1\" class=\"dataframe\">\n",
       "  <thead>\n",
       "    <tr style=\"text-align: right;\">\n",
       "      <th></th>\n",
       "      <th>InvoiceNo</th>\n",
       "      <th>StockCode</th>\n",
       "      <th>Description</th>\n",
       "      <th>Quantity</th>\n",
       "      <th>InvoiceDate</th>\n",
       "      <th>UnitPrice</th>\n",
       "      <th>CustomerID</th>\n",
       "      <th>Country</th>\n",
       "    </tr>\n",
       "  </thead>\n",
       "  <tbody>\n",
       "    <tr>\n",
       "      <th>299985</th>\n",
       "      <td>A563187</td>\n",
       "      <td>B</td>\n",
       "      <td>Adjust bad debt</td>\n",
       "      <td>1</td>\n",
       "      <td>2011-08-12 14:52:00</td>\n",
       "      <td>-11062.06</td>\n",
       "      <td>Unknown</td>\n",
       "      <td>United Kingdom</td>\n",
       "    </tr>\n",
       "  </tbody>\n",
       "</table>\n",
       "</div>"
      ],
      "text/plain": [
       "0      InvoiceNo StockCode      Description  Quantity         InvoiceDate  \\\n",
       "299985   A563187         B  Adjust bad debt         1 2011-08-12 14:52:00   \n",
       "\n",
       "0       UnitPrice CustomerID         Country  \n",
       "299985  -11062.06    Unknown  United Kingdom  "
      ]
     },
     "execution_count": 41,
     "metadata": {},
     "output_type": "execute_result"
    }
   ],
   "source": [
    "min_row = cleaned_positive_df[cleaned_positive_df['InvoiceNo'] == 'A563187']\n",
    "min_row"
   ]
  },
  {
   "cell_type": "markdown",
   "id": "c9edc4b1-9b87-4e08-bedc-7f4f17e4ebb6",
   "metadata": {
    "tags": []
   },
   "source": [
    "**Looking at this the InvoiceNo is unique and we can simply delete the original order (and one cancelled order) and transfer the other cancelled orders to the cancelled df.**"
   ]
  },
  {
   "cell_type": "code",
   "execution_count": 43,
   "id": "9a186d9b-58e0-43ca-a32c-fcf6ed2bc991",
   "metadata": {
    "tags": []
   },
   "outputs": [
    {
     "data": {
      "text/html": [
       "<div>\n",
       "<style scoped>\n",
       "    .dataframe tbody tr th:only-of-type {\n",
       "        vertical-align: middle;\n",
       "    }\n",
       "\n",
       "    .dataframe tbody tr th {\n",
       "        vertical-align: top;\n",
       "    }\n",
       "\n",
       "    .dataframe thead th {\n",
       "        text-align: right;\n",
       "    }\n",
       "</style>\n",
       "<table border=\"1\" class=\"dataframe\">\n",
       "  <thead>\n",
       "    <tr style=\"text-align: right;\">\n",
       "      <th></th>\n",
       "      <th>InvoiceNo</th>\n",
       "      <th>StockCode</th>\n",
       "      <th>Description</th>\n",
       "      <th>Quantity</th>\n",
       "      <th>InvoiceDate</th>\n",
       "      <th>UnitPrice</th>\n",
       "      <th>CustomerID</th>\n",
       "      <th>Country</th>\n",
       "    </tr>\n",
       "  </thead>\n",
       "  <tbody>\n",
       "    <tr>\n",
       "      <th>7391</th>\n",
       "      <td>C581569</td>\n",
       "      <td>20979</td>\n",
       "      <td>36 PENCILS TUBE RED RETROSPOT</td>\n",
       "      <td>-5</td>\n",
       "      <td>2011-12-09 11:58:00</td>\n",
       "      <td>1.25</td>\n",
       "      <td>17315.0</td>\n",
       "      <td>United Kingdom</td>\n",
       "    </tr>\n",
       "    <tr>\n",
       "      <th>7392</th>\n",
       "      <td>A563186</td>\n",
       "      <td>B</td>\n",
       "      <td>Adjust bad debt</td>\n",
       "      <td>1</td>\n",
       "      <td>2011-08-12 14:51:00</td>\n",
       "      <td>-11062.06</td>\n",
       "      <td>Unknown</td>\n",
       "      <td>United Kingdom</td>\n",
       "    </tr>\n",
       "  </tbody>\n",
       "</table>\n",
       "</div>"
      ],
      "text/plain": [
       "0    InvoiceNo StockCode                    Description  Quantity  \\\n",
       "7391   C581569     20979  36 PENCILS TUBE RED RETROSPOT        -5   \n",
       "7392   A563186         B                Adjust bad debt         1   \n",
       "\n",
       "0            InvoiceDate  UnitPrice CustomerID         Country  \n",
       "7391 2011-12-09 11:58:00       1.25    17315.0  United Kingdom  \n",
       "7392 2011-08-12 14:51:00  -11062.06    Unknown  United Kingdom  "
      ]
     },
     "execution_count": 43,
     "metadata": {},
     "output_type": "execute_result"
    }
   ],
   "source": [
    "# Condition for selecting the row to move\n",
    "InvoiceNo_move = 'A563186'\n",
    "\n",
    "# Select the row(s) to move\n",
    "row_to_move = cleaned_positive_df[cleaned_positive_df['InvoiceNo'] == InvoiceNo_move]\n",
    "\n",
    "# Remove the selected row from the original DataFrame\n",
    "cleaned_positive_df = cleaned_positive_df[cleaned_positive_df['InvoiceNo'] != InvoiceNo_move]\n",
    "\n",
    "# Append the selected row to the new DataFrame\n",
    "cancelled_order_df = pd.concat([cancelled_order_df, row_to_move], ignore_index=True)\n",
    "cancelled_order_df.tail(2)"
   ]
  },
  {
   "cell_type": "code",
   "execution_count": 44,
   "id": "605b2318-0781-4e16-89a5-0d464d913af5",
   "metadata": {
    "tags": []
   },
   "outputs": [],
   "source": [
    "# Values to remove\n",
    "InvoiceNo = ['A563185', 'A563187']\n",
    "\n",
    "# Remove rows where 'InvoiceNo' is in the specified list\n",
    "cleaned_positive_df = cleaned_positive_df[~cleaned_positive_df['InvoiceNo'].isin(InvoiceNo)]"
   ]
  },
  {
   "cell_type": "markdown",
   "id": "7449e219-404a-4d64-aefd-616ae201e522",
   "metadata": {
    "tags": []
   },
   "source": [
    "### Revisiting how quantity changes with Unit price"
   ]
  },
  {
   "cell_type": "code",
   "execution_count": 46,
   "id": "66d611b7-454c-4ea0-9f33-0527471e9781",
   "metadata": {
    "tags": []
   },
   "outputs": [
    {
     "data": {
      "image/png": "[encoded data removed]",
      "text/plain": [
       "<Figure size 1000x600 with 1 Axes>"
      ]
     },
     "metadata": {},
     "output_type": "display_data"
    }
   ],
   "source": [
    "# Scatter plot of Quantity vs UnitPrice\n",
    "plt.figure(figsize=(10, 6))\n",
    "sns.scatterplot(data=cleaned_positive_df, x='UnitPrice', y='Quantity', alpha=0.7, edgecolor=None)\n",
    "plt.title('Scatter Plot of Quantity vs UnitPrice')\n",
    "plt.xlabel('UnitPrice')\n",
    "plt.ylabel('Quantity')\n",
    "plt.grid(True)\n",
    "plt.show()"
   ]
  },
  {
   "cell_type": "markdown",
   "id": "e07020eb-01ed-4a27-8fbb-09bdb1590add",
   "metadata": {},
   "source": [
    " "
   ]
  },
  {
   "cell_type": "markdown",
   "id": "f7428d11-d9e0-43ba-8aec-1238b09d987e",
   "metadata": {},
   "source": [
    "### 2.13 Determining wherther to keep description as a feature column"
   ]
  },
  {
   "cell_type": "code",
   "execution_count": 49,
   "id": "515b33f2-e5ec-4e54-8895-c79114205acc",
   "metadata": {},
   "outputs": [
    {
     "name": "stdout",
     "output_type": "stream",
     "text": [
      "Number of unique values: 4070\n"
     ]
    }
   ],
   "source": [
    "unique_values = cleaned_positive_df['Description'].unique()\n",
    "\n",
    "# Number of unique values\n",
    "num_unique_values = len(unique_values)\n",
    "\n",
    "print(f'Number of unique values: {num_unique_values}')"
   ]
  },
  {
   "cell_type": "markdown",
   "id": "5135118d-3a82-4548-8109-5d444fd898ce",
   "metadata": {},
   "source": [
    "**Note: With so many different products the data becomes high-dimensional. In such high-dimensional spaces, the notion of \"distance\" between data points becomes less significant, potentially impairing the effectiveness of distance-based algorithms like K-means.**"
   ]
  },
  {
   "cell_type": "markdown",
   "id": "52e21ea9-5d09-4d91-b2ff-11259d5882a7",
   "metadata": {
    "tags": []
   },
   "source": [
    "### 2.20 Data Preprocessing"
   ]
  },
  {
   "cell_type": "markdown",
   "id": "cb93b91f-22cf-4980-95b5-812afa7f0993",
   "metadata": {
    "tags": []
   },
   "source": [
    "### 2.21 Checking for nulls"
   ]
  },
  {
   "cell_type": "code",
   "execution_count": 53,
   "id": "d86da794-ca6c-4375-a33b-942d9a240f08",
   "metadata": {
    "tags": []
   },
   "outputs": [
    {
     "name": "stdout",
     "output_type": "stream",
     "text": [
      "<class 'pandas.core.frame.DataFrame'>\n",
      "Index: 523845 entries, 1 to 541909\n",
      "Data columns (total 8 columns):\n",
      " #   Column       Non-Null Count   Dtype         \n",
      "---  ------       --------------   -----         \n",
      " 0   InvoiceNo    523845 non-null  object        \n",
      " 1   StockCode    523845 non-null  object        \n",
      " 2   Description  523845 non-null  object        \n",
      " 3   Quantity     523845 non-null  int32         \n",
      " 4   InvoiceDate  523845 non-null  datetime64[ns]\n",
      " 5   UnitPrice    523845 non-null  float64       \n",
      " 6   CustomerID   523845 non-null  object        \n",
      " 7   Country      523845 non-null  object        \n",
      "dtypes: datetime64[ns](1), float64(1), int32(1), object(5)\n",
      "memory usage: 34.0+ MB\n"
     ]
    }
   ],
   "source": [
    "cleaned_positive_df.info()"
   ]
  },
  {
   "cell_type": "markdown",
   "id": "f499c6ec-96a1-45dc-9c3f-d57f5c7ff34b",
   "metadata": {},
   "source": [
    "**Note: No nulls in the dataset.**"
   ]
  },
  {
   "cell_type": "markdown",
   "id": "0f1b33ee-8fd3-4988-a2b5-304145f3b910",
   "metadata": {
    "tags": []
   },
   "source": [
    "### 2.22 Checking for duplicates"
   ]
  },
  {
   "cell_type": "markdown",
   "id": "015efa97-c040-45f5-9537-317abbf5a3c8",
   "metadata": {},
   "source": [
    "**There should be no duplicate rows since even for products within the same order (invoice number) they are seperated with different products and varying quantities.**"
   ]
  },
  {
   "cell_type": "code",
   "execution_count": 57,
   "id": "17aad8ad-ab3a-42e8-96c7-3f963f30505d",
   "metadata": {
    "tags": []
   },
   "outputs": [
    {
     "name": "stdout",
     "output_type": "stream",
     "text": [
      "0      InvoiceNo StockCode                        Description  Quantity  \\\n",
      "518       536409     21866        UNION JACK FLAG LUGGAGE TAG         1   \n",
      "528       536409     22866      HAND WARMER SCOTTY DOG DESIGN         1   \n",
      "538       536409     22900    SET 2 TEA TOWELS I LOVE LONDON          1   \n",
      "540       536409     22111       SCOTTIE DOG HOT WATER BOTTLE         1   \n",
      "556       536412     22327  ROUND SNACK BOXES SET OF 4 SKULLS         1   \n",
      "...          ...       ...                                ...       ...   \n",
      "541676    581538     22068        BLACK PIRATE TREASURE CHEST         1   \n",
      "541690    581538     23318     BOX OF 6 MINI VINTAGE CRACKERS         1   \n",
      "541693    581538     22992             REVOLVER WOODEN RULER          1   \n",
      "541700    581538     22694                       WICKER STAR          1   \n",
      "541702    581538     23343       JUMBO BAG VINTAGE CHRISTMAS          1   \n",
      "\n",
      "0              InvoiceDate  UnitPrice CustomerID         Country  \n",
      "518    2010-12-01 11:45:00       1.25      17908  United Kingdom  \n",
      "528    2010-12-01 11:45:00       2.10      17908  United Kingdom  \n",
      "538    2010-12-01 11:45:00       2.95      17908  United Kingdom  \n",
      "540    2010-12-01 11:45:00       4.95      17908  United Kingdom  \n",
      "556    2010-12-01 11:49:00       2.95      17920  United Kingdom  \n",
      "...                    ...        ...        ...             ...  \n",
      "541676 2011-12-09 11:34:00       0.39    14446.0  United Kingdom  \n",
      "541690 2011-12-09 11:34:00       2.49    14446.0  United Kingdom  \n",
      "541693 2011-12-09 11:34:00       1.95    14446.0  United Kingdom  \n",
      "541700 2011-12-09 11:34:00       2.10    14446.0  United Kingdom  \n",
      "541702 2011-12-09 11:34:00       2.08    14446.0  United Kingdom  \n",
      "\n",
      "[5128 rows x 8 columns]\n"
     ]
    }
   ],
   "source": [
    "# Find duplicate rows\n",
    "duplicates = cleaned_positive_df[cleaned_positive_df.duplicated()]\n",
    "\n",
    "# Display the duplicates\n",
    "print(duplicates)"
   ]
  },
  {
   "cell_type": "code",
   "execution_count": 58,
   "id": "cbdd36c8-6109-4b98-bb7c-4caf655c6213",
   "metadata": {
    "tags": []
   },
   "outputs": [],
   "source": [
    "# 5128 Duplicate rows found - Must be removed.\n",
    "\n",
    "# Dropping duplicates\n",
    "cleaned_positive_df = cleaned_positive_df.drop_duplicates()"
   ]
  },
  {
   "cell_type": "code",
   "execution_count": 59,
   "id": "440265c9-baa5-48c0-85cb-e37e7b24b347",
   "metadata": {
    "tags": []
   },
   "outputs": [
    {
     "name": "stdout",
     "output_type": "stream",
     "text": [
      "Total number of duplicate rows: 0\n"
     ]
    }
   ],
   "source": [
    "# Checking if duplicaes removed\n",
    "num_duplicates = cleaned_positive_df.duplicated().sum()\n",
    "print(f\"Total number of duplicate rows: {num_duplicates}\")"
   ]
  },
  {
   "cell_type": "markdown",
   "id": "2d662a12-8f85-4e42-992d-389957bbedee",
   "metadata": {
    "tags": []
   },
   "source": [
    "**Note: All duplicate observations have been removed.**"
   ]
  },
  {
   "cell_type": "markdown",
   "id": "7b80295b-bb6f-4ebf-aa71-e666a258d804",
   "metadata": {
    "tags": []
   },
   "source": [
    "### 2.23 Creating a day of the week / month / time column"
   ]
  },
  {
   "cell_type": "code",
   "execution_count": 62,
   "id": "fe2d3b99-da4d-40d1-bee3-0796998a23b7",
   "metadata": {
    "tags": []
   },
   "outputs": [],
   "source": [
    "# Extract day of the week (0=Monday, 6=Sunday)\n",
    "cleaned_positive_df['DayOfWeek'] = cleaned_positive_df['InvoiceDate'].dt.dayofweek\n",
    "\n",
    "# Extract month (1=January, 12=December)\n",
    "cleaned_positive_df['Month'] = cleaned_positive_df['InvoiceDate'].dt.month"
   ]
  },
  {
   "cell_type": "code",
   "execution_count": 63,
   "id": "a0b2af8d-bc84-4840-bc21-f27ec3ef2568",
   "metadata": {},
   "outputs": [
    {
     "data": {
      "text/html": [
       "<div>\n",
       "<style scoped>\n",
       "    .dataframe tbody tr th:only-of-type {\n",
       "        vertical-align: middle;\n",
       "    }\n",
       "\n",
       "    .dataframe tbody tr th {\n",
       "        vertical-align: top;\n",
       "    }\n",
       "\n",
       "    .dataframe thead th {\n",
       "        text-align: right;\n",
       "    }\n",
       "</style>\n",
       "<table border=\"1\" class=\"dataframe\">\n",
       "  <thead>\n",
       "    <tr style=\"text-align: right;\">\n",
       "      <th></th>\n",
       "      <th>InvoiceNo</th>\n",
       "      <th>StockCode</th>\n",
       "      <th>Description</th>\n",
       "      <th>Quantity</th>\n",
       "      <th>InvoiceDate</th>\n",
       "      <th>UnitPrice</th>\n",
       "      <th>CustomerID</th>\n",
       "      <th>Country</th>\n",
       "      <th>DayOfWeek</th>\n",
       "      <th>Month</th>\n",
       "    </tr>\n",
       "  </thead>\n",
       "  <tbody>\n",
       "    <tr>\n",
       "      <th>1</th>\n",
       "      <td>536365</td>\n",
       "      <td>85123A</td>\n",
       "      <td>WHITE HANGING HEART T-LIGHT HOLDER</td>\n",
       "      <td>6</td>\n",
       "      <td>2010-12-01 08:26:00</td>\n",
       "      <td>2.55</td>\n",
       "      <td>17850</td>\n",
       "      <td>United Kingdom</td>\n",
       "      <td>2</td>\n",
       "      <td>12</td>\n",
       "    </tr>\n",
       "    <tr>\n",
       "      <th>2</th>\n",
       "      <td>536365</td>\n",
       "      <td>71053</td>\n",
       "      <td>WHITE METAL LANTERN</td>\n",
       "      <td>6</td>\n",
       "      <td>2010-12-01 08:26:00</td>\n",
       "      <td>3.39</td>\n",
       "      <td>17850</td>\n",
       "      <td>United Kingdom</td>\n",
       "      <td>2</td>\n",
       "      <td>12</td>\n",
       "    </tr>\n",
       "    <tr>\n",
       "      <th>3</th>\n",
       "      <td>536365</td>\n",
       "      <td>84406B</td>\n",
       "      <td>CREAM CUPID HEARTS COAT HANGER</td>\n",
       "      <td>8</td>\n",
       "      <td>2010-12-01 08:26:00</td>\n",
       "      <td>2.75</td>\n",
       "      <td>17850</td>\n",
       "      <td>United Kingdom</td>\n",
       "      <td>2</td>\n",
       "      <td>12</td>\n",
       "    </tr>\n",
       "    <tr>\n",
       "      <th>4</th>\n",
       "      <td>536365</td>\n",
       "      <td>84029G</td>\n",
       "      <td>KNITTED UNION FLAG HOT WATER BOTTLE</td>\n",
       "      <td>6</td>\n",
       "      <td>2010-12-01 08:26:00</td>\n",
       "      <td>3.39</td>\n",
       "      <td>17850</td>\n",
       "      <td>United Kingdom</td>\n",
       "      <td>2</td>\n",
       "      <td>12</td>\n",
       "    </tr>\n",
       "    <tr>\n",
       "      <th>5</th>\n",
       "      <td>536365</td>\n",
       "      <td>84029E</td>\n",
       "      <td>RED WOOLLY HOTTIE WHITE HEART.</td>\n",
       "      <td>6</td>\n",
       "      <td>2010-12-01 08:26:00</td>\n",
       "      <td>3.39</td>\n",
       "      <td>17850</td>\n",
       "      <td>United Kingdom</td>\n",
       "      <td>2</td>\n",
       "      <td>12</td>\n",
       "    </tr>\n",
       "  </tbody>\n",
       "</table>\n",
       "</div>"
      ],
      "text/plain": [
       "0 InvoiceNo StockCode                          Description  Quantity  \\\n",
       "1    536365    85123A   WHITE HANGING HEART T-LIGHT HOLDER         6   \n",
       "2    536365     71053                  WHITE METAL LANTERN         6   \n",
       "3    536365    84406B       CREAM CUPID HEARTS COAT HANGER         8   \n",
       "4    536365    84029G  KNITTED UNION FLAG HOT WATER BOTTLE         6   \n",
       "5    536365    84029E       RED WOOLLY HOTTIE WHITE HEART.         6   \n",
       "\n",
       "0         InvoiceDate  UnitPrice CustomerID         Country  DayOfWeek  Month  \n",
       "1 2010-12-01 08:26:00       2.55      17850  United Kingdom          2     12  \n",
       "2 2010-12-01 08:26:00       3.39      17850  United Kingdom          2     12  \n",
       "3 2010-12-01 08:26:00       2.75      17850  United Kingdom          2     12  \n",
       "4 2010-12-01 08:26:00       3.39      17850  United Kingdom          2     12  \n",
       "5 2010-12-01 08:26:00       3.39      17850  United Kingdom          2     12  "
      ]
     },
     "execution_count": 63,
     "metadata": {},
     "output_type": "execute_result"
    }
   ],
   "source": [
    "cleaned_positive_df.head()"
   ]
  },
  {
   "cell_type": "markdown",
   "id": "5ae17b4b-38ed-4ee9-981c-8da3ff9e0bab",
   "metadata": {
    "tags": []
   },
   "source": [
    "### 2.24 Removing non-useful columns"
   ]
  },
  {
   "cell_type": "markdown",
   "id": "a5a79429-0d3d-43d4-bd24-c43f54da408c",
   "metadata": {},
   "source": [
    "**Columns to Exclude**\n",
    "\n",
    "**InvoiceNo:** A unique identifier for transactions, not useful for clustering.\n",
    "\n",
    "**StockCode:** A unique identifier for products. May not be useful directly, but product categories could be more useful if available.\n",
    "\n",
    "**InvoiceDate:** </br> Already converted into seperate columns:\n",
    "- Day of the week: To understand if certain customers purchase more on specific days.\n",
    "- Month: To identify seasonal buying patterns.\n",
    "- Time of day: If time information is available, it can indicate peak purchasing times.\n",
    "\n",
    "**CustomerID:** Unique identifier for customers, not useful for clustering directly. However, customer-related features like total spent, frequency, etc., could be useful."
   ]
  },
  {
   "cell_type": "code",
   "execution_count": 66,
   "id": "d708cae5-0d5e-40a4-99ff-13dba040ac5c",
   "metadata": {
    "tags": []
   },
   "outputs": [],
   "source": [
    "# Separate the CustomerID column - For referencing\n",
    "customer_ids = cleaned_positive_df['CustomerID']\n",
    "customer_ids = cleaned_positive_df['Country']\n",
    "\n",
    "# Drop the specified columns\n",
    "columns_to_drop = ['InvoiceNo', 'StockCode', 'Description', 'InvoiceDate', 'CustomerID', 'Country']\n",
    "cleaned_positive_df = cleaned_positive_df.drop(columns=columns_to_drop)\n",
    "pre_std_df = cleaned_positive_df.copy() # create a copy so we can see the averages of our clusters (not standardised)"
   ]
  },
  {
   "cell_type": "markdown",
   "id": "9cf2a974-6d5a-412f-a2f1-26b2031d13d1",
   "metadata": {
    "tags": []
   },
   "source": [
    "**Note: The data has no errors and won't need altering.**"
   ]
  },
  {
   "cell_type": "markdown",
   "id": "5343dbf3-4726-44ce-9522-7be56f4594bd",
   "metadata": {
    "tags": []
   },
   "source": [
    "### 2.25 Scaling the data"
   ]
  },
  {
   "cell_type": "code",
   "execution_count": 69,
   "id": "80ad0154-02c5-45d5-ae36-03b036bf26d8",
   "metadata": {
    "tags": []
   },
   "outputs": [],
   "source": [
    "# Define preprocessor for scaling\n",
    "preprocessor = ColumnTransformer(\n",
    "    transformers=[\n",
    "        ('num', StandardScaler(), ['Quantity', 'UnitPrice']),\n",
    "        ('cat', StandardScaler(), ['DayOfWeek', 'Month'])  # Scaling integer encoded DayOfWeek and Month\n",
    "    ]\n",
    ")\n",
    "\n",
    "# Define the column names after transformation\n",
    "num_features = ['Quantity', 'UnitPrice']\n",
    "cat_features = ['DayOfWeek', 'Month']\n",
    "\n",
    "all_features = num_features + cat_features\n",
    "\n",
    "# Apply transformations\n",
    "cleaned_positive_df = preprocessor.fit_transform(cleaned_positive_df)\n",
    "cleaned_positive_df = pd.DataFrame(cleaned_positive_df, columns=all_features)"
   ]
  },
  {
   "cell_type": "code",
   "execution_count": 70,
   "id": "c24eacdf-cd48-4caf-ac8b-6138cc969549",
   "metadata": {
    "tags": []
   },
   "outputs": [
    {
     "data": {
      "text/html": [
       "<div>\n",
       "<style scoped>\n",
       "    .dataframe tbody tr th:only-of-type {\n",
       "        vertical-align: middle;\n",
       "    }\n",
       "\n",
       "    .dataframe tbody tr th {\n",
       "        vertical-align: top;\n",
       "    }\n",
       "\n",
       "    .dataframe thead th {\n",
       "        text-align: right;\n",
       "    }\n",
       "</style>\n",
       "<table border=\"1\" class=\"dataframe\">\n",
       "  <thead>\n",
       "    <tr style=\"text-align: right;\">\n",
       "      <th></th>\n",
       "      <th>Quantity</th>\n",
       "      <th>UnitPrice</th>\n",
       "      <th>DayOfWeek</th>\n",
       "      <th>Month</th>\n",
       "    </tr>\n",
       "  </thead>\n",
       "  <tbody>\n",
       "    <tr>\n",
       "      <th>0</th>\n",
       "      <td>-0.100097</td>\n",
       "      <td>-0.056595</td>\n",
       "      <td>-0.232391</td>\n",
       "      <td>1.264902</td>\n",
       "    </tr>\n",
       "    <tr>\n",
       "      <th>1</th>\n",
       "      <td>-0.100097</td>\n",
       "      <td>-0.017320</td>\n",
       "      <td>-0.232391</td>\n",
       "      <td>1.264902</td>\n",
       "    </tr>\n",
       "    <tr>\n",
       "      <th>2</th>\n",
       "      <td>-0.053434</td>\n",
       "      <td>-0.047244</td>\n",
       "      <td>-0.232391</td>\n",
       "      <td>1.264902</td>\n",
       "    </tr>\n",
       "    <tr>\n",
       "      <th>3</th>\n",
       "      <td>-0.100097</td>\n",
       "      <td>-0.017320</td>\n",
       "      <td>-0.232391</td>\n",
       "      <td>1.264902</td>\n",
       "    </tr>\n",
       "    <tr>\n",
       "      <th>4</th>\n",
       "      <td>-0.100097</td>\n",
       "      <td>-0.017320</td>\n",
       "      <td>-0.232391</td>\n",
       "      <td>1.264902</td>\n",
       "    </tr>\n",
       "  </tbody>\n",
       "</table>\n",
       "</div>"
      ],
      "text/plain": [
       "   Quantity  UnitPrice  DayOfWeek     Month\n",
       "0 -0.100097  -0.056595  -0.232391  1.264902\n",
       "1 -0.100097  -0.017320  -0.232391  1.264902\n",
       "2 -0.053434  -0.047244  -0.232391  1.264902\n",
       "3 -0.100097  -0.017320  -0.232391  1.264902\n",
       "4 -0.100097  -0.017320  -0.232391  1.264902"
      ]
     },
     "execution_count": 70,
     "metadata": {},
     "output_type": "execute_result"
    }
   ],
   "source": [
    "cleaned_positive_df.head()"
   ]
  },
  {
   "cell_type": "markdown",
   "id": "5f913262-b9db-4384-bea5-be43e9e6bd8e",
   "metadata": {},
   "source": [
    "## 3.0 Clustering"
   ]
  },
  {
   "cell_type": "markdown",
   "id": "6ab91864-1c0a-49d2-aa86-0c43a728c235",
   "metadata": {
    "tags": []
   },
   "source": [
    "### 3.1 K-Means Clustering"
   ]
  },
  {
   "cell_type": "code",
   "execution_count": 73,
   "id": "ad7cd16f-dbe1-4328-bc8d-eab1531d0ac4",
   "metadata": {},
   "outputs": [],
   "source": [
    "wcss = [] # Within cluster sum of squares\n",
    "for i in range(1, 11):\n",
    "    kmeans = KMeans(n_clusters = i, init = 'k-means++', n_init=10, random_state = 30) # k-means++: An initialisation algorithm that find the best cluster seeds\n",
    "    kmeans.fit(cleaned_positive_df)\n",
    "    wcss.append(kmeans.inertia_)"
   ]
  },
  {
   "cell_type": "code",
   "execution_count": 74,
   "id": "862da33a-8046-44fd-98f3-1a56b5240dfe",
   "metadata": {},
   "outputs": [
    {
     "data": {
      "image/png": "[encoded data removed]",
      "text/plain": [
       "<Figure size 1000x800 with 1 Axes>"
      ]
     },
     "metadata": {},
     "output_type": "display_data"
    }
   ],
   "source": [
    "# Plotting the K-means\n",
    "plt.figure(figsize = (10, 8))\n",
    "plt.plot(range(1, 11), wcss, marker = 'o', linestyle = '--')\n",
    "plt.xlabel('Number of Clusters')\n",
    "plt.ylabel('WCSS')\n",
    "plt.title('K-means Clustering')\n",
    "plt.show()"
   ]
  },
  {
   "cell_type": "markdown",
   "id": "6182e3d9-e596-43fb-ab55-87bb5c5babec",
   "metadata": {},
   "source": [
    "**Using Davies-Bouldin Index to determine the number of clusters**"
   ]
  },
  {
   "cell_type": "code",
   "execution_count": 76,
   "id": "34a86a43-a0c4-49e6-a96f-135dc7493605",
   "metadata": {
    "tags": []
   },
   "outputs": [],
   "source": [
    "# davies_bouldin_scores = []\n",
    "# for i in range(2, 11):\n",
    "#     kmeans = KMeans(n_clusters=i, init='k-means++', n_init=10, random_state=30)\n",
    "#     kmeans.fit(cleaned_positive_df)\n",
    "#     score = davies_bouldin_score(cleaned_positive_df, kmeans.labels_)\n",
    "#     davies_bouldin_scores.append(score)\n",
    "\n",
    "# # Plotting the Davies-Bouldin Scores\n",
    "# plt.figure(figsize=(10, 5))\n",
    "# plt.plot(range(2, 11), davies_bouldin_scores, marker='o', linestyle='--')\n",
    "# plt.title('Davies-Bouldin Scores for K-means Clustering')\n",
    "# plt.xlabel('Number of clusters')\n",
    "# plt.ylabel('Davies-Bouldin Score')\n",
    "# plt.xticks(range(2, 11))\n",
    "# plt.grid(True)\n",
    "# plt.show()"
   ]
  },
  {
   "cell_type": "markdown",
   "id": "50e80294-3727-4590-8a8e-aedd0ed3ee9d",
   "metadata": {},
   "source": [
    "**Note: Ideal number of clusters based on DB scores: 8**"
   ]
  },
  {
   "cell_type": "code",
   "execution_count": 78,
   "id": "952c43b2-fc40-4ccf-b559-dc82e860d43a",
   "metadata": {},
   "outputs": [],
   "source": [
    "kmeans = KMeans(n_clusters = 8, init = 'k-means++',  random_state = 30) # Implement number of clusters"
   ]
  },
  {
   "cell_type": "code",
   "execution_count": 79,
   "id": "fdca35b3-4bb0-499d-8e60-6e523cc847cb",
   "metadata": {},
   "outputs": [
    {
     "name": "stderr",
     "output_type": "stream",
     "text": [
      "C:\\Users\\olive\\anaconda3\\Lib\\site-packages\\sklearn\\cluster\\_kmeans.py:870: FutureWarning: The default value of `n_init` will change from 10 to 'auto' in 1.4. Set the value of `n_init` explicitly to suppress the warning\n",
      "  warnings.warn(\n"
     ]
    },
    {
     "data": {
      "text/html": [
       "<style>#sk-container-id-1 {color: black;background-color: white;}#sk-container-id-1 pre{padding: 0;}#sk-container-id-1 div.sk-toggleable {background-color: white;}#sk-container-id-1 label.sk-toggleable__label {cursor: pointer;display: block;width: 100%;margin-bottom: 0;padding: 0.3em;box-sizing: border-box;text-align: center;}#sk-container-id-1 label.sk-toggleable__label-arrow:before {content: \"▸\";float: left;margin-right: 0.25em;color: #696969;}#sk-container-id-1 label.sk-toggleable__label-arrow:hover:before {color: black;}#sk-container-id-1 div.sk-estimator:hover label.sk-toggleable__label-arrow:before {color: black;}#sk-container-id-1 div.sk-toggleable__content {max-height: 0;max-width: 0;overflow: hidden;text-align: left;background-color: #f0f8ff;}#sk-container-id-1 div.sk-toggleable__content pre {margin: 0.2em;color: black;border-radius: 0.25em;background-color: #f0f8ff;}#sk-container-id-1 input.sk-toggleable__control:checked~div.sk-toggleable__content {max-height: 200px;max-width: 100%;overflow: auto;}#sk-container-id-1 input.sk-toggleable__control:checked~label.sk-toggleable__label-arrow:before {content: \"▾\";}#sk-container-id-1 div.sk-estimator input.sk-toggleable__control:checked~label.sk-toggleable__label {background-color: #d4ebff;}#sk-container-id-1 div.sk-label input.sk-toggleable__control:checked~label.sk-toggleable__label {background-color: #d4ebff;}#sk-container-id-1 input.sk-hidden--visually {border: 0;clip: rect(1px 1px 1px 1px);clip: rect(1px, 1px, 1px, 1px);height: 1px;margin: -1px;overflow: hidden;padding: 0;position: absolute;width: 1px;}#sk-container-id-1 div.sk-estimator {font-family: monospace;background-color: #f0f8ff;border: 1px dotted black;border-radius: 0.25em;box-sizing: border-box;margin-bottom: 0.5em;}#sk-container-id-1 div.sk-estimator:hover {background-color: #d4ebff;}#sk-container-id-1 div.sk-parallel-item::after {content: \"\";width: 100%;border-bottom: 1px solid gray;flex-grow: 1;}#sk-container-id-1 div.sk-label:hover label.sk-toggleable__label {background-color: #d4ebff;}#sk-container-id-1 div.sk-serial::before {content: \"\";position: absolute;border-left: 1px solid gray;box-sizing: border-box;top: 0;bottom: 0;left: 50%;z-index: 0;}#sk-container-id-1 div.sk-serial {display: flex;flex-direction: column;align-items: center;background-color: white;padding-right: 0.2em;padding-left: 0.2em;position: relative;}#sk-container-id-1 div.sk-item {position: relative;z-index: 1;}#sk-container-id-1 div.sk-parallel {display: flex;align-items: stretch;justify-content: center;background-color: white;position: relative;}#sk-container-id-1 div.sk-item::before, #sk-container-id-1 div.sk-parallel-item::before {content: \"\";position: absolute;border-left: 1px solid gray;box-sizing: border-box;top: 0;bottom: 0;left: 50%;z-index: -1;}#sk-container-id-1 div.sk-parallel-item {display: flex;flex-direction: column;z-index: 1;position: relative;background-color: white;}#sk-container-id-1 div.sk-parallel-item:first-child::after {align-self: flex-end;width: 50%;}#sk-container-id-1 div.sk-parallel-item:last-child::after {align-self: flex-start;width: 50%;}#sk-container-id-1 div.sk-parallel-item:only-child::after {width: 0;}#sk-container-id-1 div.sk-dashed-wrapped {border: 1px dashed gray;margin: 0 0.4em 0.5em 0.4em;box-sizing: border-box;padding-bottom: 0.4em;background-color: white;}#sk-container-id-1 div.sk-label label {font-family: monospace;font-weight: bold;display: inline-block;line-height: 1.2em;}#sk-container-id-1 div.sk-label-container {text-align: center;}#sk-container-id-1 div.sk-container {/* jupyter's `normalize.less` sets `[hidden] { display: none; }` but bootstrap.min.css set `[hidden] { display: none !important; }` so we also need the `!important` here to be able to override the default hidden behavior on the sphinx rendered scikit-learn.org. See: https://github.com/scikit-learn/scikit-learn/issues/21755 */display: inline-block !important;position: relative;}#sk-container-id-1 div.sk-text-repr-fallback {display: none;}</style><div id=\"sk-container-id-1\" class=\"sk-top-container\"><div class=\"sk-text-repr-fallback\"><pre>KMeans(random_state=30)</pre><b>In a Jupyter environment, please rerun this cell to show the HTML representation or trust the notebook. <br />On GitHub, the HTML representation is unable to render, please try loading this page with nbviewer.org.</b></div><div class=\"sk-container\" hidden><div class=\"sk-item\"><div class=\"sk-estimator sk-toggleable\"><input class=\"sk-toggleable__control sk-hidden--visually\" id=\"sk-estimator-id-1\" type=\"checkbox\" checked><label for=\"sk-estimator-id-1\" class=\"sk-toggleable__label sk-toggleable__label-arrow\">KMeans</label><div class=\"sk-toggleable__content\"><pre>KMeans(random_state=30)</pre></div></div></div></div></div>"
      ],
      "text/plain": [
       "KMeans(random_state=30)"
      ]
     },
     "execution_count": 79,
     "metadata": {},
     "output_type": "execute_result"
    }
   ],
   "source": [
    "kmeans.fit(cleaned_positive_df)"
   ]
  },
  {
   "cell_type": "markdown",
   "id": "eae751c9-c6ac-41a5-970f-b8b4d1566ce8",
   "metadata": {
    "tags": []
   },
   "source": [
    "### 3.11 K-Means Clustering: Results"
   ]
  },
  {
   "cell_type": "code",
   "execution_count": 81,
   "id": "68ee9576-442a-458f-853d-37b06abcebf8",
   "metadata": {
    "tags": []
   },
   "outputs": [],
   "source": [
    "df_segm_kmeans = pre_std_df.copy()\n",
    "df_segm_kmeans['segment k-means'] = kmeans.labels_"
   ]
  },
  {
   "cell_type": "code",
   "execution_count": 82,
   "id": "f9f2fd39-ec68-4643-b3af-a1829490ef1b",
   "metadata": {
    "tags": []
   },
   "outputs": [
    {
     "data": {
      "text/html": [
       "<div>\n",
       "<style scoped>\n",
       "    .dataframe tbody tr th:only-of-type {\n",
       "        vertical-align: middle;\n",
       "    }\n",
       "\n",
       "    .dataframe tbody tr th {\n",
       "        vertical-align: top;\n",
       "    }\n",
       "\n",
       "    .dataframe thead th {\n",
       "        text-align: right;\n",
       "    }\n",
       "</style>\n",
       "<table border=\"1\" class=\"dataframe\">\n",
       "  <thead>\n",
       "    <tr style=\"text-align: right;\">\n",
       "      <th></th>\n",
       "      <th>Quantity</th>\n",
       "      <th>UnitPrice</th>\n",
       "      <th>DayOfWeek</th>\n",
       "      <th>Month</th>\n",
       "    </tr>\n",
       "    <tr>\n",
       "      <th>segment k-means</th>\n",
       "      <th></th>\n",
       "      <th></th>\n",
       "      <th></th>\n",
       "      <th></th>\n",
       "    </tr>\n",
       "  </thead>\n",
       "  <tbody>\n",
       "    <tr>\n",
       "      <th>0</th>\n",
       "      <td>9.261346</td>\n",
       "      <td>3.892993</td>\n",
       "      <td>0.994626</td>\n",
       "      <td>3.525379</td>\n",
       "    </tr>\n",
       "    <tr>\n",
       "      <th>1</th>\n",
       "      <td>8.932725</td>\n",
       "      <td>3.155484</td>\n",
       "      <td>4.200024</td>\n",
       "      <td>10.256926</td>\n",
       "    </tr>\n",
       "    <tr>\n",
       "      <th>2</th>\n",
       "      <td>9.189740</td>\n",
       "      <td>3.454245</td>\n",
       "      <td>0.998810</td>\n",
       "      <td>9.909157</td>\n",
       "    </tr>\n",
       "    <tr>\n",
       "      <th>3</th>\n",
       "      <td>613.864865</td>\n",
       "      <td>1.291843</td>\n",
       "      <td>2.114251</td>\n",
       "      <td>7.293612</td>\n",
       "    </tr>\n",
       "    <tr>\n",
       "      <th>4</th>\n",
       "      <td>1.418440</td>\n",
       "      <td>872.544326</td>\n",
       "      <td>1.865248</td>\n",
       "      <td>9.801418</td>\n",
       "    </tr>\n",
       "    <tr>\n",
       "      <th>5</th>\n",
       "      <td>9.516617</td>\n",
       "      <td>3.612367</td>\n",
       "      <td>3.963499</td>\n",
       "      <td>4.045565</td>\n",
       "    </tr>\n",
       "    <tr>\n",
       "      <th>6</th>\n",
       "      <td>3613.619048</td>\n",
       "      <td>0.512381</td>\n",
       "      <td>2.809524</td>\n",
       "      <td>5.761905</td>\n",
       "    </tr>\n",
       "    <tr>\n",
       "      <th>7</th>\n",
       "      <td>1.000000</td>\n",
       "      <td>4278.730000</td>\n",
       "      <td>2.250000</td>\n",
       "      <td>8.750000</td>\n",
       "    </tr>\n",
       "  </tbody>\n",
       "</table>\n",
       "</div>"
      ],
      "text/plain": [
       "0                   Quantity    UnitPrice  DayOfWeek      Month\n",
       "segment k-means                                                \n",
       "0                   9.261346     3.892993   0.994626   3.525379\n",
       "1                   8.932725     3.155484   4.200024  10.256926\n",
       "2                   9.189740     3.454245   0.998810   9.909157\n",
       "3                 613.864865     1.291843   2.114251   7.293612\n",
       "4                   1.418440   872.544326   1.865248   9.801418\n",
       "5                   9.516617     3.612367   3.963499   4.045565\n",
       "6                3613.619048     0.512381   2.809524   5.761905\n",
       "7                   1.000000  4278.730000   2.250000   8.750000"
      ]
     },
     "execution_count": 82,
     "metadata": {},
     "output_type": "execute_result"
    }
   ],
   "source": [
    "df_segm_analysis = df_segm_kmeans.groupby(['segment k-means']).mean()\n",
    "df_segm_analysis"
   ]
  },
  {
   "cell_type": "code",
   "execution_count": 83,
   "id": "6acf87c2-45bc-4eab-91a6-2e8f0ba194ed",
   "metadata": {
    "tags": []
   },
   "outputs": [
    {
     "data": {
      "text/html": [
       "<div>\n",
       "<style scoped>\n",
       "    .dataframe tbody tr th:only-of-type {\n",
       "        vertical-align: middle;\n",
       "    }\n",
       "\n",
       "    .dataframe tbody tr th {\n",
       "        vertical-align: top;\n",
       "    }\n",
       "\n",
       "    .dataframe thead th {\n",
       "        text-align: right;\n",
       "    }\n",
       "</style>\n",
       "<table border=\"1\" class=\"dataframe\">\n",
       "  <thead>\n",
       "    <tr style=\"text-align: right;\">\n",
       "      <th></th>\n",
       "      <th>Quantity</th>\n",
       "      <th>UnitPrice</th>\n",
       "      <th>DayOfWeek</th>\n",
       "      <th>Month</th>\n",
       "      <th>num_obs</th>\n",
       "      <th>probability</th>\n",
       "    </tr>\n",
       "    <tr>\n",
       "      <th>segment k-means</th>\n",
       "      <th></th>\n",
       "      <th></th>\n",
       "      <th></th>\n",
       "      <th></th>\n",
       "      <th></th>\n",
       "      <th></th>\n",
       "    </tr>\n",
       "  </thead>\n",
       "  <tbody>\n",
       "    <tr>\n",
       "      <th>0</th>\n",
       "      <td>9.261346</td>\n",
       "      <td>3.892993</td>\n",
       "      <td>0.994626</td>\n",
       "      <td>3.525379</td>\n",
       "      <td>107551</td>\n",
       "      <td>0.207340</td>\n",
       "    </tr>\n",
       "    <tr>\n",
       "      <th>1</th>\n",
       "      <td>8.932725</td>\n",
       "      <td>3.155484</td>\n",
       "      <td>4.200024</td>\n",
       "      <td>10.256926</td>\n",
       "      <td>139978</td>\n",
       "      <td>0.269854</td>\n",
       "    </tr>\n",
       "    <tr>\n",
       "      <th>2</th>\n",
       "      <td>9.189740</td>\n",
       "      <td>3.454245</td>\n",
       "      <td>0.998810</td>\n",
       "      <td>9.909157</td>\n",
       "      <td>171361</td>\n",
       "      <td>0.330355</td>\n",
       "    </tr>\n",
       "    <tr>\n",
       "      <th>3</th>\n",
       "      <td>613.864865</td>\n",
       "      <td>1.291843</td>\n",
       "      <td>2.114251</td>\n",
       "      <td>7.293612</td>\n",
       "      <td>814</td>\n",
       "      <td>0.001569</td>\n",
       "    </tr>\n",
       "    <tr>\n",
       "      <th>4</th>\n",
       "      <td>1.418440</td>\n",
       "      <td>872.544326</td>\n",
       "      <td>1.865248</td>\n",
       "      <td>9.801418</td>\n",
       "      <td>141</td>\n",
       "      <td>0.000272</td>\n",
       "    </tr>\n",
       "    <tr>\n",
       "      <th>5</th>\n",
       "      <td>9.516617</td>\n",
       "      <td>3.612367</td>\n",
       "      <td>3.963499</td>\n",
       "      <td>4.045565</td>\n",
       "      <td>98847</td>\n",
       "      <td>0.190561</td>\n",
       "    </tr>\n",
       "    <tr>\n",
       "      <th>6</th>\n",
       "      <td>3613.619048</td>\n",
       "      <td>0.512381</td>\n",
       "      <td>2.809524</td>\n",
       "      <td>5.761905</td>\n",
       "      <td>21</td>\n",
       "      <td>0.000040</td>\n",
       "    </tr>\n",
       "    <tr>\n",
       "      <th>7</th>\n",
       "      <td>1.000000</td>\n",
       "      <td>4278.730000</td>\n",
       "      <td>2.250000</td>\n",
       "      <td>8.750000</td>\n",
       "      <td>4</td>\n",
       "      <td>0.000008</td>\n",
       "    </tr>\n",
       "  </tbody>\n",
       "</table>\n",
       "</div>"
      ],
      "text/plain": [
       "0                   Quantity    UnitPrice  DayOfWeek      Month  num_obs  \\\n",
       "segment k-means                                                            \n",
       "0                   9.261346     3.892993   0.994626   3.525379   107551   \n",
       "1                   8.932725     3.155484   4.200024  10.256926   139978   \n",
       "2                   9.189740     3.454245   0.998810   9.909157   171361   \n",
       "3                 613.864865     1.291843   2.114251   7.293612      814   \n",
       "4                   1.418440   872.544326   1.865248   9.801418      141   \n",
       "5                   9.516617     3.612367   3.963499   4.045565    98847   \n",
       "6                3613.619048     0.512381   2.809524   5.761905       21   \n",
       "7                   1.000000  4278.730000   2.250000   8.750000        4   \n",
       "\n",
       "0                probability  \n",
       "segment k-means               \n",
       "0                   0.207340  \n",
       "1                   0.269854  \n",
       "2                   0.330355  \n",
       "3                   0.001569  \n",
       "4                   0.000272  \n",
       "5                   0.190561  \n",
       "6                   0.000040  \n",
       "7                   0.000008  "
      ]
     },
     "execution_count": 83,
     "metadata": {},
     "output_type": "execute_result"
    }
   ],
   "source": [
    "# Calculate the mean values for each segment\n",
    "df_segm_analysis = df_segm_kmeans.groupby(['segment k-means']).mean()\n",
    "\n",
    "# Calculate the number of observations for each segment\n",
    "num_obs = df_segm_kmeans.groupby(['segment k-means']).size()\n",
    "\n",
    "# Add the number of observations to the analysis DataFrame\n",
    "df_segm_analysis['num_obs'] = num_obs\n",
    "\n",
    "# Add column for probability\n",
    "df_segm_analysis['probability'] = df_segm_analysis['num_obs'] / df_segm_analysis['num_obs'].sum()\n",
    "\n",
    "df_segm_analysis"
   ]
  },
  {
   "cell_type": "code",
   "execution_count": null,
   "id": "174edb23-5e21-42c0-8dce-ba6aeb503335",
   "metadata": {},
   "outputs": [],
   "source": []
  },
  {
   "cell_type": "code",
   "execution_count": 84,
   "id": "96735a98-37e2-4bb6-8690-90972f2db995",
   "metadata": {
    "tags": []
   },
   "outputs": [
    {
     "data": {
      "text/html": [
       "<div>\n",
       "<style scoped>\n",
       "    .dataframe tbody tr th:only-of-type {\n",
       "        vertical-align: middle;\n",
       "    }\n",
       "\n",
       "    .dataframe tbody tr th {\n",
       "        vertical-align: top;\n",
       "    }\n",
       "\n",
       "    .dataframe thead th {\n",
       "        text-align: right;\n",
       "    }\n",
       "</style>\n",
       "<table border=\"1\" class=\"dataframe\">\n",
       "  <thead>\n",
       "    <tr style=\"text-align: right;\">\n",
       "      <th></th>\n",
       "      <th>Quantity</th>\n",
       "      <th>UnitPrice</th>\n",
       "      <th>DayOfWeek</th>\n",
       "      <th>Month</th>\n",
       "      <th>num_obs</th>\n",
       "      <th>probability</th>\n",
       "    </tr>\n",
       "    <tr>\n",
       "      <th>segment k-means</th>\n",
       "      <th></th>\n",
       "      <th></th>\n",
       "      <th></th>\n",
       "      <th></th>\n",
       "      <th></th>\n",
       "      <th></th>\n",
       "    </tr>\n",
       "  </thead>\n",
       "  <tbody>\n",
       "    <tr>\n",
       "      <th>med-med-mon-late_spring</th>\n",
       "      <td>9.261346</td>\n",
       "      <td>3.892993</td>\n",
       "      <td>0.994626</td>\n",
       "      <td>3.525379</td>\n",
       "      <td>107551</td>\n",
       "      <td>0.207340</td>\n",
       "    </tr>\n",
       "    <tr>\n",
       "      <th>med-med-fri-winter</th>\n",
       "      <td>8.932725</td>\n",
       "      <td>3.155484</td>\n",
       "      <td>4.200024</td>\n",
       "      <td>10.256926</td>\n",
       "      <td>139978</td>\n",
       "      <td>0.269854</td>\n",
       "    </tr>\n",
       "    <tr>\n",
       "      <th>med-med-mon-autumn/winter</th>\n",
       "      <td>9.189740</td>\n",
       "      <td>3.454245</td>\n",
       "      <td>0.998810</td>\n",
       "      <td>9.909157</td>\n",
       "      <td>171361</td>\n",
       "      <td>0.330355</td>\n",
       "    </tr>\n",
       "    <tr>\n",
       "      <th>high-low-wed-autumn</th>\n",
       "      <td>613.864865</td>\n",
       "      <td>1.291843</td>\n",
       "      <td>2.114251</td>\n",
       "      <td>7.293612</td>\n",
       "      <td>814</td>\n",
       "      <td>0.001569</td>\n",
       "    </tr>\n",
       "    <tr>\n",
       "      <th>loe-high-wed-autumn/winter</th>\n",
       "      <td>1.418440</td>\n",
       "      <td>872.544326</td>\n",
       "      <td>1.865248</td>\n",
       "      <td>9.801418</td>\n",
       "      <td>141</td>\n",
       "      <td>0.000272</td>\n",
       "    </tr>\n",
       "    <tr>\n",
       "      <th>low-vhigh-fri-spring</th>\n",
       "      <td>9.516617</td>\n",
       "      <td>3.612367</td>\n",
       "      <td>3.963499</td>\n",
       "      <td>4.045565</td>\n",
       "      <td>98847</td>\n",
       "      <td>0.190561</td>\n",
       "    </tr>\n",
       "    <tr>\n",
       "      <th>high-vlow-thurs-spring/summer</th>\n",
       "      <td>3613.619048</td>\n",
       "      <td>0.512381</td>\n",
       "      <td>2.809524</td>\n",
       "      <td>5.761905</td>\n",
       "      <td>21</td>\n",
       "      <td>0.000040</td>\n",
       "    </tr>\n",
       "    <tr>\n",
       "      <th>vlow-vhigh-wed-autumn</th>\n",
       "      <td>1.000000</td>\n",
       "      <td>4278.730000</td>\n",
       "      <td>2.250000</td>\n",
       "      <td>8.750000</td>\n",
       "      <td>4</td>\n",
       "      <td>0.000008</td>\n",
       "    </tr>\n",
       "  </tbody>\n",
       "</table>\n",
       "</div>"
      ],
      "text/plain": [
       "0                                 Quantity    UnitPrice  DayOfWeek      Month  \\\n",
       "segment k-means                                                                 \n",
       "med-med-mon-late_spring           9.261346     3.892993   0.994626   3.525379   \n",
       "med-med-fri-winter                8.932725     3.155484   4.200024  10.256926   \n",
       "med-med-mon-autumn/winter         9.189740     3.454245   0.998810   9.909157   \n",
       "high-low-wed-autumn             613.864865     1.291843   2.114251   7.293612   \n",
       "loe-high-wed-autumn/winter        1.418440   872.544326   1.865248   9.801418   \n",
       "low-vhigh-fri-spring              9.516617     3.612367   3.963499   4.045565   \n",
       "high-vlow-thurs-spring/summer  3613.619048     0.512381   2.809524   5.761905   \n",
       "vlow-vhigh-wed-autumn             1.000000  4278.730000   2.250000   8.750000   \n",
       "\n",
       "0                              num_obs  probability  \n",
       "segment k-means                                      \n",
       "med-med-mon-late_spring         107551     0.207340  \n",
       "med-med-fri-winter              139978     0.269854  \n",
       "med-med-mon-autumn/winter       171361     0.330355  \n",
       "high-low-wed-autumn                814     0.001569  \n",
       "loe-high-wed-autumn/winter         141     0.000272  \n",
       "low-vhigh-fri-spring             98847     0.190561  \n",
       "high-vlow-thurs-spring/summer       21     0.000040  \n",
       "vlow-vhigh-wed-autumn                4     0.000008  "
      ]
     },
     "execution_count": 84,
     "metadata": {},
     "output_type": "execute_result"
    }
   ],
   "source": [
    "df_segm_analysis.rename({0: 'med-med-mon-late_spring', #  quantity / unit price / day of week / month\n",
    "                         1: 'med-med-fri-winter', \n",
    "                         2: 'med-med-mon-autumn/winter',\n",
    "                         3: 'high-low-wed-autumn',\n",
    "                         4: 'loe-high-wed-autumn/winter',\n",
    "                         5: 'low-vhigh-fri-spring',\n",
    "                         6: 'high-vlow-thurs-spring/summer', \n",
    "                         7: 'vlow-vhigh-wed-autumn'})\n"
   ]
  },
  {
   "cell_type": "code",
   "execution_count": 85,
   "id": "1ca50844-67c2-4534-b02a-cbca5f7a6276",
   "metadata": {
    "tags": []
   },
   "outputs": [],
   "source": [
    "df_segm_kmeans['Labels'] = df_segm_kmeans['segment k-means'].map({0: 'med-med-mon-late_spring', #  quantity / unit price / day of week / month\n",
    "                                                                  1: 'med-med-fri-winter', \n",
    "                                                                  2: 'med-med-mon-autumn/winter',\n",
    "                                                                  3: 'high-low-wed-autumn',\n",
    "                                                                  4: 'loe-high-wed-autumn/winter',\n",
    "                                                                  5: 'low-vhigh-fri-spring',\n",
    "                                                                  6: 'high-vlow-thurs-spring/summer', \n",
    "                                                                  7: 'vlow-vhigh-wed-autumn'})\n"
   ]
  },
  {
   "cell_type": "code",
   "execution_count": 86,
   "id": "53f7fe3f-a4cf-4194-bc00-4815f9e141f9",
   "metadata": {
    "tags": []
   },
   "outputs": [
    {
     "data": {
      "image/png": "[encoded data removed]",
      "text/plain": [
       "<Figure size 1000x800 with 1 Axes>"
      ]
     },
     "metadata": {},
     "output_type": "display_data"
    }
   ],
   "source": [
    "x_axis = df_segm_kmeans['Quantity']\n",
    "y_axis = df_segm_kmeans['UnitPrice']\n",
    "\n",
    "plt.figure(figsize = (10, 8))\n",
    "sns.scatterplot(x = x_axis, y = y_axis, hue= df_segm_kmeans['Labels'], palette=sns.color_palette(\"Set1\", 8))\n",
    "plt.title('segmentation k-means')\n",
    "plt.show()"
   ]
  },
  {
   "cell_type": "markdown",
   "id": "6d9b2bca-201b-40f2-8017-68a6c75cb44b",
   "metadata": {},
   "source": [
    "**Note: Good seperation between pink/orange/green/blue clusters. However for lower quantity and price transactions the clusters are grouped together. Should combine k-means with principle component analysis (PCA) to get better insight.**"
   ]
  },
  {
   "cell_type": "markdown",
   "id": "b21e33c8-ad9d-4098-9948-6c43583d95cb",
   "metadata": {
    "tags": []
   },
   "source": [
    "### 3.2 K- Means clustering with PCA"
   ]
  },
  {
   "cell_type": "markdown",
   "id": "d9720275-f1a8-4cc9-be7d-5a03ebe69362",
   "metadata": {},
   "source": [
    "**Using PCA for dimensionality reduction.**"
   ]
  },
  {
   "cell_type": "code",
   "execution_count": 90,
   "id": "1461f500-2c92-4eb5-aca8-dde261ba169f",
   "metadata": {},
   "outputs": [
    {
     "data": {
      "text/html": [
       "<style>#sk-container-id-2 {color: black;background-color: white;}#sk-container-id-2 pre{padding: 0;}#sk-container-id-2 div.sk-toggleable {background-color: white;}#sk-container-id-2 label.sk-toggleable__label {cursor: pointer;display: block;width: 100%;margin-bottom: 0;padding: 0.3em;box-sizing: border-box;text-align: center;}#sk-container-id-2 label.sk-toggleable__label-arrow:before {content: \"▸\";float: left;margin-right: 0.25em;color: #696969;}#sk-container-id-2 label.sk-toggleable__label-arrow:hover:before {color: black;}#sk-container-id-2 div.sk-estimator:hover label.sk-toggleable__label-arrow:before {color: black;}#sk-container-id-2 div.sk-toggleable__content {max-height: 0;max-width: 0;overflow: hidden;text-align: left;background-color: #f0f8ff;}#sk-container-id-2 div.sk-toggleable__content pre {margin: 0.2em;color: black;border-radius: 0.25em;background-color: #f0f8ff;}#sk-container-id-2 input.sk-toggleable__control:checked~div.sk-toggleable__content {max-height: 200px;max-width: 100%;overflow: auto;}#sk-container-id-2 input.sk-toggleable__control:checked~label.sk-toggleable__label-arrow:before {content: \"▾\";}#sk-container-id-2 div.sk-estimator input.sk-toggleable__control:checked~label.sk-toggleable__label {background-color: #d4ebff;}#sk-container-id-2 div.sk-label input.sk-toggleable__control:checked~label.sk-toggleable__label {background-color: #d4ebff;}#sk-container-id-2 input.sk-hidden--visually {border: 0;clip: rect(1px 1px 1px 1px);clip: rect(1px, 1px, 1px, 1px);height: 1px;margin: -1px;overflow: hidden;padding: 0;position: absolute;width: 1px;}#sk-container-id-2 div.sk-estimator {font-family: monospace;background-color: #f0f8ff;border: 1px dotted black;border-radius: 0.25em;box-sizing: border-box;margin-bottom: 0.5em;}#sk-container-id-2 div.sk-estimator:hover {background-color: #d4ebff;}#sk-container-id-2 div.sk-parallel-item::after {content: \"\";width: 100%;border-bottom: 1px solid gray;flex-grow: 1;}#sk-container-id-2 div.sk-label:hover label.sk-toggleable__label {background-color: #d4ebff;}#sk-container-id-2 div.sk-serial::before {content: \"\";position: absolute;border-left: 1px solid gray;box-sizing: border-box;top: 0;bottom: 0;left: 50%;z-index: 0;}#sk-container-id-2 div.sk-serial {display: flex;flex-direction: column;align-items: center;background-color: white;padding-right: 0.2em;padding-left: 0.2em;position: relative;}#sk-container-id-2 div.sk-item {position: relative;z-index: 1;}#sk-container-id-2 div.sk-parallel {display: flex;align-items: stretch;justify-content: center;background-color: white;position: relative;}#sk-container-id-2 div.sk-item::before, #sk-container-id-2 div.sk-parallel-item::before {content: \"\";position: absolute;border-left: 1px solid gray;box-sizing: border-box;top: 0;bottom: 0;left: 50%;z-index: -1;}#sk-container-id-2 div.sk-parallel-item {display: flex;flex-direction: column;z-index: 1;position: relative;background-color: white;}#sk-container-id-2 div.sk-parallel-item:first-child::after {align-self: flex-end;width: 50%;}#sk-container-id-2 div.sk-parallel-item:last-child::after {align-self: flex-start;width: 50%;}#sk-container-id-2 div.sk-parallel-item:only-child::after {width: 0;}#sk-container-id-2 div.sk-dashed-wrapped {border: 1px dashed gray;margin: 0 0.4em 0.5em 0.4em;box-sizing: border-box;padding-bottom: 0.4em;background-color: white;}#sk-container-id-2 div.sk-label label {font-family: monospace;font-weight: bold;display: inline-block;line-height: 1.2em;}#sk-container-id-2 div.sk-label-container {text-align: center;}#sk-container-id-2 div.sk-container {/* jupyter's `normalize.less` sets `[hidden] { display: none; }` but bootstrap.min.css set `[hidden] { display: none !important; }` so we also need the `!important` here to be able to override the default hidden behavior on the sphinx rendered scikit-learn.org. See: https://github.com/scikit-learn/scikit-learn/issues/21755 */display: inline-block !important;position: relative;}#sk-container-id-2 div.sk-text-repr-fallback {display: none;}</style><div id=\"sk-container-id-2\" class=\"sk-top-container\"><div class=\"sk-text-repr-fallback\"><pre>PCA()</pre><b>In a Jupyter environment, please rerun this cell to show the HTML representation or trust the notebook. <br />On GitHub, the HTML representation is unable to render, please try loading this page with nbviewer.org.</b></div><div class=\"sk-container\" hidden><div class=\"sk-item\"><div class=\"sk-estimator sk-toggleable\"><input class=\"sk-toggleable__control sk-hidden--visually\" id=\"sk-estimator-id-2\" type=\"checkbox\" checked><label for=\"sk-estimator-id-2\" class=\"sk-toggleable__label sk-toggleable__label-arrow\">PCA</label><div class=\"sk-toggleable__content\"><pre>PCA()</pre></div></div></div></div></div>"
      ],
      "text/plain": [
       "PCA()"
      ]
     },
     "execution_count": 90,
     "metadata": {},
     "output_type": "execute_result"
    }
   ],
   "source": [
    "pca = PCA()\n",
    "pca.fit(cleaned_positive_df)"
   ]
  },
  {
   "cell_type": "code",
   "execution_count": 91,
   "id": "223790b3-19b0-484f-9300-28c2df0e368d",
   "metadata": {
    "tags": []
   },
   "outputs": [
    {
     "data": {
      "text/html": [
       "<div>\n",
       "<style scoped>\n",
       "    .dataframe tbody tr th:only-of-type {\n",
       "        vertical-align: middle;\n",
       "    }\n",
       "\n",
       "    .dataframe tbody tr th {\n",
       "        vertical-align: top;\n",
       "    }\n",
       "\n",
       "    .dataframe thead th {\n",
       "        text-align: right;\n",
       "    }\n",
       "</style>\n",
       "<table border=\"1\" class=\"dataframe\">\n",
       "  <thead>\n",
       "    <tr style=\"text-align: right;\">\n",
       "      <th></th>\n",
       "      <th>Quantity</th>\n",
       "      <th>UnitPrice</th>\n",
       "      <th>DayOfWeek</th>\n",
       "      <th>Month</th>\n",
       "    </tr>\n",
       "  </thead>\n",
       "  <tbody>\n",
       "    <tr>\n",
       "      <th>0</th>\n",
       "      <td>-0.100097</td>\n",
       "      <td>-0.056595</td>\n",
       "      <td>-0.232391</td>\n",
       "      <td>1.264902</td>\n",
       "    </tr>\n",
       "    <tr>\n",
       "      <th>1</th>\n",
       "      <td>-0.100097</td>\n",
       "      <td>-0.017320</td>\n",
       "      <td>-0.232391</td>\n",
       "      <td>1.264902</td>\n",
       "    </tr>\n",
       "  </tbody>\n",
       "</table>\n",
       "</div>"
      ],
      "text/plain": [
       "   Quantity  UnitPrice  DayOfWeek     Month\n",
       "0 -0.100097  -0.056595  -0.232391  1.264902\n",
       "1 -0.100097  -0.017320  -0.232391  1.264902"
      ]
     },
     "execution_count": 91,
     "metadata": {},
     "output_type": "execute_result"
    }
   ],
   "source": [
    "cleaned_positive_df.head(2)"
   ]
  },
  {
   "cell_type": "code",
   "execution_count": 92,
   "id": "3a791b01-c438-44ff-94eb-e6b4ae792776",
   "metadata": {},
   "outputs": [
    {
     "data": {
      "text/plain": [
       "array([0.26098943, 0.25543154, 0.24450051, 0.23907853])"
      ]
     },
     "execution_count": 92,
     "metadata": {},
     "output_type": "execute_result"
    }
   ],
   "source": [
    "# Show significance of each feature\n",
    "pca.explained_variance_ratio_"
   ]
  },
  {
   "cell_type": "code",
   "execution_count": 93,
   "id": "941f6ea3-93c2-4e49-8244-74f564549a23",
   "metadata": {},
   "outputs": [
    {
     "data": {
      "text/plain": [
       "Text(0, 0.5, 'Cumulitive explained variance')"
      ]
     },
     "execution_count": 93,
     "metadata": {},
     "output_type": "execute_result"
    },
    {
     "data": {
      "image/png": "[encoded data removed]",
      "text/plain": [
       "<Figure size 1200x900 with 1 Axes>"
      ]
     },
     "metadata": {},
     "output_type": "display_data"
    }
   ],
   "source": [
    "plt.figure(figsize = (12, 9))\n",
    "plt.plot(range(1, 5), pca.explained_variance_ratio_.cumsum(), marker = 'o', linestyle = '--')\n",
    "plt.title('Explained Variance by Components')\n",
    "plt.xlabel('Number of components')\n",
    "plt.ylabel('Cumulitive explained variance')"
   ]
  },
  {
   "cell_type": "code",
   "execution_count": 94,
   "id": "a4976bf1-4913-47cf-8918-d43d5214583b",
   "metadata": {
    "tags": []
   },
   "outputs": [],
   "source": [
    "# Having three components would retain 76% of the information\n",
    "pca = PCA(n_components = 3)"
   ]
  },
  {
   "cell_type": "code",
   "execution_count": 95,
   "id": "1e4b1021-7674-4fe4-8516-bbfb67fef959",
   "metadata": {
    "tags": []
   },
   "outputs": [
    {
     "data": {
      "text/html": [
       "<style>#sk-container-id-3 {color: black;background-color: white;}#sk-container-id-3 pre{padding: 0;}#sk-container-id-3 div.sk-toggleable {background-color: white;}#sk-container-id-3 label.sk-toggleable__label {cursor: pointer;display: block;width: 100%;margin-bottom: 0;padding: 0.3em;box-sizing: border-box;text-align: center;}#sk-container-id-3 label.sk-toggleable__label-arrow:before {content: \"▸\";float: left;margin-right: 0.25em;color: #696969;}#sk-container-id-3 label.sk-toggleable__label-arrow:hover:before {color: black;}#sk-container-id-3 div.sk-estimator:hover label.sk-toggleable__label-arrow:before {color: black;}#sk-container-id-3 div.sk-toggleable__content {max-height: 0;max-width: 0;overflow: hidden;text-align: left;background-color: #f0f8ff;}#sk-container-id-3 div.sk-toggleable__content pre {margin: 0.2em;color: black;border-radius: 0.25em;background-color: #f0f8ff;}#sk-container-id-3 input.sk-toggleable__control:checked~div.sk-toggleable__content {max-height: 200px;max-width: 100%;overflow: auto;}#sk-container-id-3 input.sk-toggleable__control:checked~label.sk-toggleable__label-arrow:before {content: \"▾\";}#sk-container-id-3 div.sk-estimator input.sk-toggleable__control:checked~label.sk-toggleable__label {background-color: #d4ebff;}#sk-container-id-3 div.sk-label input.sk-toggleable__control:checked~label.sk-toggleable__label {background-color: #d4ebff;}#sk-container-id-3 input.sk-hidden--visually {border: 0;clip: rect(1px 1px 1px 1px);clip: rect(1px, 1px, 1px, 1px);height: 1px;margin: -1px;overflow: hidden;padding: 0;position: absolute;width: 1px;}#sk-container-id-3 div.sk-estimator {font-family: monospace;background-color: #f0f8ff;border: 1px dotted black;border-radius: 0.25em;box-sizing: border-box;margin-bottom: 0.5em;}#sk-container-id-3 div.sk-estimator:hover {background-color: #d4ebff;}#sk-container-id-3 div.sk-parallel-item::after {content: \"\";width: 100%;border-bottom: 1px solid gray;flex-grow: 1;}#sk-container-id-3 div.sk-label:hover label.sk-toggleable__label {background-color: #d4ebff;}#sk-container-id-3 div.sk-serial::before {content: \"\";position: absolute;border-left: 1px solid gray;box-sizing: border-box;top: 0;bottom: 0;left: 50%;z-index: 0;}#sk-container-id-3 div.sk-serial {display: flex;flex-direction: column;align-items: center;background-color: white;padding-right: 0.2em;padding-left: 0.2em;position: relative;}#sk-container-id-3 div.sk-item {position: relative;z-index: 1;}#sk-container-id-3 div.sk-parallel {display: flex;align-items: stretch;justify-content: center;background-color: white;position: relative;}#sk-container-id-3 div.sk-item::before, #sk-container-id-3 div.sk-parallel-item::before {content: \"\";position: absolute;border-left: 1px solid gray;box-sizing: border-box;top: 0;bottom: 0;left: 50%;z-index: -1;}#sk-container-id-3 div.sk-parallel-item {display: flex;flex-direction: column;z-index: 1;position: relative;background-color: white;}#sk-container-id-3 div.sk-parallel-item:first-child::after {align-self: flex-end;width: 50%;}#sk-container-id-3 div.sk-parallel-item:last-child::after {align-self: flex-start;width: 50%;}#sk-container-id-3 div.sk-parallel-item:only-child::after {width: 0;}#sk-container-id-3 div.sk-dashed-wrapped {border: 1px dashed gray;margin: 0 0.4em 0.5em 0.4em;box-sizing: border-box;padding-bottom: 0.4em;background-color: white;}#sk-container-id-3 div.sk-label label {font-family: monospace;font-weight: bold;display: inline-block;line-height: 1.2em;}#sk-container-id-3 div.sk-label-container {text-align: center;}#sk-container-id-3 div.sk-container {/* jupyter's `normalize.less` sets `[hidden] { display: none; }` but bootstrap.min.css set `[hidden] { display: none !important; }` so we also need the `!important` here to be able to override the default hidden behavior on the sphinx rendered scikit-learn.org. See: https://github.com/scikit-learn/scikit-learn/issues/21755 */display: inline-block !important;position: relative;}#sk-container-id-3 div.sk-text-repr-fallback {display: none;}</style><div id=\"sk-container-id-3\" class=\"sk-top-container\"><div class=\"sk-text-repr-fallback\"><pre>PCA(n_components=3)</pre><b>In a Jupyter environment, please rerun this cell to show the HTML representation or trust the notebook. <br />On GitHub, the HTML representation is unable to render, please try loading this page with nbviewer.org.</b></div><div class=\"sk-container\" hidden><div class=\"sk-item\"><div class=\"sk-estimator sk-toggleable\"><input class=\"sk-toggleable__control sk-hidden--visually\" id=\"sk-estimator-id-3\" type=\"checkbox\" checked><label for=\"sk-estimator-id-3\" class=\"sk-toggleable__label sk-toggleable__label-arrow\">PCA</label><div class=\"sk-toggleable__content\"><pre>PCA(n_components=3)</pre></div></div></div></div></div>"
      ],
      "text/plain": [
       "PCA(n_components=3)"
      ]
     },
     "execution_count": 95,
     "metadata": {},
     "output_type": "execute_result"
    }
   ],
   "source": [
    "pca.fit(cleaned_positive_df)"
   ]
  },
  {
   "cell_type": "markdown",
   "id": "03a3c8fa-8602-4bb1-bba6-93c181537fac",
   "metadata": {},
   "source": [
    "### 3.21 K-Means with PCA"
   ]
  },
  {
   "cell_type": "code",
   "execution_count": 97,
   "id": "322f19c8-2f15-4405-86ad-a0e76a3e98dc",
   "metadata": {
    "tags": []
   },
   "outputs": [
    {
     "data": {
      "text/plain": [
       "array([[ 0.22871926,  0.08681487, -0.69358214, -0.67756512],\n",
       "       [ 0.66276442, -0.7345295 ,  0.14448276, -0.01828866],\n",
       "       [ 0.69142646,  0.59713774, -0.08559711,  0.39752874]])"
      ]
     },
     "execution_count": 97,
     "metadata": {},
     "output_type": "execute_result"
    }
   ],
   "source": [
    "pca.components_ # Loading: Correlation between an original variable and a component"
   ]
  },
  {
   "cell_type": "markdown",
   "id": "61417618-cb78-4a13-9366-b4db53348bf9",
   "metadata": {},
   "source": [
    "### "
   ]
  },
  {
   "cell_type": "code",
   "execution_count": 98,
   "id": "745b52f4-d4bd-4162-a250-6fbd095495d8",
   "metadata": {
    "tags": []
   },
   "outputs": [
    {
     "data": {
      "text/html": [
       "<div>\n",
       "<style scoped>\n",
       "    .dataframe tbody tr th:only-of-type {\n",
       "        vertical-align: middle;\n",
       "    }\n",
       "\n",
       "    .dataframe tbody tr th {\n",
       "        vertical-align: top;\n",
       "    }\n",
       "\n",
       "    .dataframe thead th {\n",
       "        text-align: right;\n",
       "    }\n",
       "</style>\n",
       "<table border=\"1\" class=\"dataframe\">\n",
       "  <thead>\n",
       "    <tr style=\"text-align: right;\">\n",
       "      <th></th>\n",
       "      <th>Quantity</th>\n",
       "      <th>UnitPrice</th>\n",
       "      <th>DayOfWeek</th>\n",
       "      <th>Month</th>\n",
       "    </tr>\n",
       "  </thead>\n",
       "  <tbody>\n",
       "    <tr>\n",
       "      <th>Component 1</th>\n",
       "      <td>0.228719</td>\n",
       "      <td>0.086815</td>\n",
       "      <td>-0.693582</td>\n",
       "      <td>-0.677565</td>\n",
       "    </tr>\n",
       "    <tr>\n",
       "      <th>Component 2</th>\n",
       "      <td>0.662764</td>\n",
       "      <td>-0.734529</td>\n",
       "      <td>0.144483</td>\n",
       "      <td>-0.018289</td>\n",
       "    </tr>\n",
       "    <tr>\n",
       "      <th>Component 3</th>\n",
       "      <td>0.691426</td>\n",
       "      <td>0.597138</td>\n",
       "      <td>-0.085597</td>\n",
       "      <td>0.397529</td>\n",
       "    </tr>\n",
       "  </tbody>\n",
       "</table>\n",
       "</div>"
      ],
      "text/plain": [
       "             Quantity  UnitPrice  DayOfWeek     Month\n",
       "Component 1  0.228719   0.086815  -0.693582 -0.677565\n",
       "Component 2  0.662764  -0.734529   0.144483 -0.018289\n",
       "Component 3  0.691426   0.597138  -0.085597  0.397529"
      ]
     },
     "execution_count": 98,
     "metadata": {},
     "output_type": "execute_result"
    }
   ],
   "source": [
    "# Visualise better in a pandas dataframe\n",
    "df_pca_comp = pd.DataFrame(data = pca.components_,\n",
    "                          columns = pre_std_df.columns.values,\n",
    "                          index = ['Component 1', 'Component 2', 'Component 3'])\n",
    "\n",
    "df_pca_comp"
   ]
  },
  {
   "cell_type": "code",
   "execution_count": 99,
   "id": "e7b99535-9b7d-43fc-a058-2e597d6c77f4",
   "metadata": {
    "tags": []
   },
   "outputs": [
    {
     "data": {
      "text/plain": [
       "([<matplotlib.axis.YTick at 0x16ecd21ba50>,\n",
       "  <matplotlib.axis.YTick at 0x16ec849e450>,\n",
       "  <matplotlib.axis.YTick at 0x16ecc44efd0>],\n",
       " [Text(0, 0, 'Component 1'),\n",
       "  Text(0, 1, 'Component 2'),\n",
       "  Text(0, 2, 'Component 3')])"
      ]
     },
     "execution_count": 99,
     "metadata": {},
     "output_type": "execute_result"
    },
    {
     "data": {
      "image/png": "[encoded data removed]",
      "text/plain": [
       "<Figure size 640x480 with 2 Axes>"
      ]
     },
     "metadata": {},
     "output_type": "display_data"
    }
   ],
   "source": [
    "sns.heatmap(df_pca_comp,\n",
    "           vmin = -1,\n",
    "           vmax = 1,\n",
    "           cmap = 'RdBu',\n",
    "           annot = True)\n",
    "plt.yticks([0, 1, 2],\n",
    "           ['Component 1', 'Component 2', 'Component 3'],\n",
    "           rotation = 45,\n",
    "           fontsize = 9)\n"
   ]
  },
  {
   "cell_type": "code",
   "execution_count": 100,
   "id": "4c55e707-9926-4226-96ea-a51bc8cd2d25",
   "metadata": {
    "tags": []
   },
   "outputs": [
    {
     "data": {
      "text/plain": [
       "array([[-0.72367846, -0.08148004,  0.41972178],\n",
       "       [-0.72026876, -0.11032908,  0.44317469],\n",
       "       [-0.71219374, -0.05742181,  0.45757033],\n",
       "       ...,\n",
       "       [-1.47959573, -0.01075999,  0.33935503],\n",
       "       [-1.47959573, -0.01075999,  0.33935503],\n",
       "       [-1.48168484, -0.05369878,  0.34555886]])"
      ]
     },
     "execution_count": 100,
     "metadata": {},
     "output_type": "execute_result"
    }
   ],
   "source": [
    "# PCA scores\n",
    "pca.transform(cleaned_positive_df) # Each observation is described by the 3 components"
   ]
  },
  {
   "cell_type": "code",
   "execution_count": 101,
   "id": "8c035adf-6a07-477b-8b3e-8d6baae7ba57",
   "metadata": {
    "tags": []
   },
   "outputs": [],
   "source": [
    "score_pca = pca.transform(cleaned_positive_df)"
   ]
  },
  {
   "cell_type": "markdown",
   "id": "58d07922-0b7e-4577-abc7-5ad42fcfe846",
   "metadata": {},
   "source": [
    "**K-means clustering with PCA**"
   ]
  },
  {
   "cell_type": "code",
   "execution_count": 103,
   "id": "46f4e593-9b53-4a9a-ac57-483011073ce4",
   "metadata": {},
   "outputs": [],
   "source": [
    "wcss = []\n",
    "for i in range(1, 11):\n",
    "    kmeans_pca = KMeans(n_clusters=i, init='k-means++', n_init=10, random_state=30)\n",
    "    kmeans_pca.fit(score_pca)\n",
    "    wcss.append(kmeans_pca.inertia_)\n"
   ]
  },
  {
   "cell_type": "code",
   "execution_count": 104,
   "id": "d93ecc9b-07ac-47f5-99d5-9c4c744ea0d2",
   "metadata": {},
   "outputs": [
    {
     "data": {
      "image/png": "[encoded data removed]",
      "text/plain": [
       "<Figure size 1000x800 with 1 Axes>"
      ]
     },
     "metadata": {},
     "output_type": "display_data"
    }
   ],
   "source": [
    "# Plotting the K-means/PCA\n",
    "plt.figure(figsize = (10, 8))\n",
    "plt.plot(range(1, 11), wcss, marker = 'o', linestyle = '--')\n",
    "plt.xlabel('Number of Clusters')\n",
    "plt.ylabel('WCSS')\n",
    "plt.title('K-means Clustering with PCA clustering')\n",
    "plt.show()"
   ]
  },
  {
   "cell_type": "code",
   "execution_count": 105,
   "id": "6cbbf4d5-b30e-482e-b416-f4c399c1b54c",
   "metadata": {
    "tags": []
   },
   "outputs": [],
   "source": [
    "kmeans_pca = KMeans(n_clusters = 4, init = 'k-means++', random_state = 30)"
   ]
  },
  {
   "cell_type": "code",
   "execution_count": 106,
   "id": "a526f8f9-2db1-4208-93b2-d30bb0733f7d",
   "metadata": {
    "tags": []
   },
   "outputs": [
    {
     "name": "stderr",
     "output_type": "stream",
     "text": [
      "C:\\Users\\olive\\anaconda3\\Lib\\site-packages\\sklearn\\cluster\\_kmeans.py:870: FutureWarning: The default value of `n_init` will change from 10 to 'auto' in 1.4. Set the value of `n_init` explicitly to suppress the warning\n",
      "  warnings.warn(\n"
     ]
    },
    {
     "data": {
      "text/html": [
       "<style>#sk-container-id-4 {color: black;background-color: white;}#sk-container-id-4 pre{padding: 0;}#sk-container-id-4 div.sk-toggleable {background-color: white;}#sk-container-id-4 label.sk-toggleable__label {cursor: pointer;display: block;width: 100%;margin-bottom: 0;padding: 0.3em;box-sizing: border-box;text-align: center;}#sk-container-id-4 label.sk-toggleable__label-arrow:before {content: \"▸\";float: left;margin-right: 0.25em;color: #696969;}#sk-container-id-4 label.sk-toggleable__label-arrow:hover:before {color: black;}#sk-container-id-4 div.sk-estimator:hover label.sk-toggleable__label-arrow:before {color: black;}#sk-container-id-4 div.sk-toggleable__content {max-height: 0;max-width: 0;overflow: hidden;text-align: left;background-color: #f0f8ff;}#sk-container-id-4 div.sk-toggleable__content pre {margin: 0.2em;color: black;border-radius: 0.25em;background-color: #f0f8ff;}#sk-container-id-4 input.sk-toggleable__control:checked~div.sk-toggleable__content {max-height: 200px;max-width: 100%;overflow: auto;}#sk-container-id-4 input.sk-toggleable__control:checked~label.sk-toggleable__label-arrow:before {content: \"▾\";}#sk-container-id-4 div.sk-estimator input.sk-toggleable__control:checked~label.sk-toggleable__label {background-color: #d4ebff;}#sk-container-id-4 div.sk-label input.sk-toggleable__control:checked~label.sk-toggleable__label {background-color: #d4ebff;}#sk-container-id-4 input.sk-hidden--visually {border: 0;clip: rect(1px 1px 1px 1px);clip: rect(1px, 1px, 1px, 1px);height: 1px;margin: -1px;overflow: hidden;padding: 0;position: absolute;width: 1px;}#sk-container-id-4 div.sk-estimator {font-family: monospace;background-color: #f0f8ff;border: 1px dotted black;border-radius: 0.25em;box-sizing: border-box;margin-bottom: 0.5em;}#sk-container-id-4 div.sk-estimator:hover {background-color: #d4ebff;}#sk-container-id-4 div.sk-parallel-item::after {content: \"\";width: 100%;border-bottom: 1px solid gray;flex-grow: 1;}#sk-container-id-4 div.sk-label:hover label.sk-toggleable__label {background-color: #d4ebff;}#sk-container-id-4 div.sk-serial::before {content: \"\";position: absolute;border-left: 1px solid gray;box-sizing: border-box;top: 0;bottom: 0;left: 50%;z-index: 0;}#sk-container-id-4 div.sk-serial {display: flex;flex-direction: column;align-items: center;background-color: white;padding-right: 0.2em;padding-left: 0.2em;position: relative;}#sk-container-id-4 div.sk-item {position: relative;z-index: 1;}#sk-container-id-4 div.sk-parallel {display: flex;align-items: stretch;justify-content: center;background-color: white;position: relative;}#sk-container-id-4 div.sk-item::before, #sk-container-id-4 div.sk-parallel-item::before {content: \"\";position: absolute;border-left: 1px solid gray;box-sizing: border-box;top: 0;bottom: 0;left: 50%;z-index: -1;}#sk-container-id-4 div.sk-parallel-item {display: flex;flex-direction: column;z-index: 1;position: relative;background-color: white;}#sk-container-id-4 div.sk-parallel-item:first-child::after {align-self: flex-end;width: 50%;}#sk-container-id-4 div.sk-parallel-item:last-child::after {align-self: flex-start;width: 50%;}#sk-container-id-4 div.sk-parallel-item:only-child::after {width: 0;}#sk-container-id-4 div.sk-dashed-wrapped {border: 1px dashed gray;margin: 0 0.4em 0.5em 0.4em;box-sizing: border-box;padding-bottom: 0.4em;background-color: white;}#sk-container-id-4 div.sk-label label {font-family: monospace;font-weight: bold;display: inline-block;line-height: 1.2em;}#sk-container-id-4 div.sk-label-container {text-align: center;}#sk-container-id-4 div.sk-container {/* jupyter's `normalize.less` sets `[hidden] { display: none; }` but bootstrap.min.css set `[hidden] { display: none !important; }` so we also need the `!important` here to be able to override the default hidden behavior on the sphinx rendered scikit-learn.org. See: https://github.com/scikit-learn/scikit-learn/issues/21755 */display: inline-block !important;position: relative;}#sk-container-id-4 div.sk-text-repr-fallback {display: none;}</style><div id=\"sk-container-id-4\" class=\"sk-top-container\"><div class=\"sk-text-repr-fallback\"><pre>KMeans(n_clusters=4, random_state=30)</pre><b>In a Jupyter environment, please rerun this cell to show the HTML representation or trust the notebook. <br />On GitHub, the HTML representation is unable to render, please try loading this page with nbviewer.org.</b></div><div class=\"sk-container\" hidden><div class=\"sk-item\"><div class=\"sk-estimator sk-toggleable\"><input class=\"sk-toggleable__control sk-hidden--visually\" id=\"sk-estimator-id-4\" type=\"checkbox\" checked><label for=\"sk-estimator-id-4\" class=\"sk-toggleable__label sk-toggleable__label-arrow\">KMeans</label><div class=\"sk-toggleable__content\"><pre>KMeans(n_clusters=4, random_state=30)</pre></div></div></div></div></div>"
      ],
      "text/plain": [
       "KMeans(n_clusters=4, random_state=30)"
      ]
     },
     "execution_count": 106,
     "metadata": {},
     "output_type": "execute_result"
    }
   ],
   "source": [
    "kmeans_pca.fit(score_pca)"
   ]
  },
  {
   "cell_type": "markdown",
   "id": "56952d91-9407-49ee-9ebd-936d805681a1",
   "metadata": {},
   "source": [
    "**K-means clustering with PCA Results**"
   ]
  },
  {
   "cell_type": "code",
   "execution_count": 211,
   "id": "c8e8883a-376a-4e36-9fc9-5406697b41be",
   "metadata": {},
   "outputs": [],
   "source": [
    "df_segm_pca_kmean = pd.concat([pre_std_df.reset_index(drop = True) ,pd.DataFrame(score_pca)], axis = 1)\n",
    "df_segm_pca_kmean.columns.values[-3:] = ['Component 1', 'Component 2', 'Component 3']\n",
    "df_segm_pca_kmean['Segment K-means PCA'] = kmeans_pca.labels_"
   ]
  },
  {
   "cell_type": "code",
   "execution_count": 213,
   "id": "64eeaebe-bbfc-470b-89f9-dd25acd75ec4",
   "metadata": {},
   "outputs": [
    {
     "data": {
      "text/html": [
       "<div>\n",
       "<style scoped>\n",
       "    .dataframe tbody tr th:only-of-type {\n",
       "        vertical-align: middle;\n",
       "    }\n",
       "\n",
       "    .dataframe tbody tr th {\n",
       "        vertical-align: top;\n",
       "    }\n",
       "\n",
       "    .dataframe thead th {\n",
       "        text-align: right;\n",
       "    }\n",
       "</style>\n",
       "<table border=\"1\" class=\"dataframe\">\n",
       "  <thead>\n",
       "    <tr style=\"text-align: right;\">\n",
       "      <th></th>\n",
       "      <th>Quantity</th>\n",
       "      <th>UnitPrice</th>\n",
       "      <th>DayOfWeek</th>\n",
       "      <th>Month</th>\n",
       "      <th>Component 1</th>\n",
       "      <th>Component 2</th>\n",
       "      <th>Component 3</th>\n",
       "      <th>Segment K-means PCA</th>\n",
       "    </tr>\n",
       "  </thead>\n",
       "  <tbody>\n",
       "    <tr>\n",
       "      <th>0</th>\n",
       "      <td>6</td>\n",
       "      <td>2.55</td>\n",
       "      <td>2</td>\n",
       "      <td>12</td>\n",
       "      <td>-0.723678</td>\n",
       "      <td>-0.081480</td>\n",
       "      <td>0.419722</td>\n",
       "      <td>1</td>\n",
       "    </tr>\n",
       "    <tr>\n",
       "      <th>1</th>\n",
       "      <td>6</td>\n",
       "      <td>3.39</td>\n",
       "      <td>2</td>\n",
       "      <td>12</td>\n",
       "      <td>-0.720269</td>\n",
       "      <td>-0.110329</td>\n",
       "      <td>0.443175</td>\n",
       "      <td>1</td>\n",
       "    </tr>\n",
       "    <tr>\n",
       "      <th>2</th>\n",
       "      <td>8</td>\n",
       "      <td>2.75</td>\n",
       "      <td>2</td>\n",
       "      <td>12</td>\n",
       "      <td>-0.712194</td>\n",
       "      <td>-0.057422</td>\n",
       "      <td>0.457570</td>\n",
       "      <td>1</td>\n",
       "    </tr>\n",
       "    <tr>\n",
       "      <th>3</th>\n",
       "      <td>6</td>\n",
       "      <td>3.39</td>\n",
       "      <td>2</td>\n",
       "      <td>12</td>\n",
       "      <td>-0.720269</td>\n",
       "      <td>-0.110329</td>\n",
       "      <td>0.443175</td>\n",
       "      <td>1</td>\n",
       "    </tr>\n",
       "    <tr>\n",
       "      <th>4</th>\n",
       "      <td>6</td>\n",
       "      <td>3.39</td>\n",
       "      <td>2</td>\n",
       "      <td>12</td>\n",
       "      <td>-0.720269</td>\n",
       "      <td>-0.110329</td>\n",
       "      <td>0.443175</td>\n",
       "      <td>1</td>\n",
       "    </tr>\n",
       "    <tr>\n",
       "      <th>...</th>\n",
       "      <td>...</td>\n",
       "      <td>...</td>\n",
       "      <td>...</td>\n",
       "      <td>...</td>\n",
       "      <td>...</td>\n",
       "      <td>...</td>\n",
       "      <td>...</td>\n",
       "      <td>...</td>\n",
       "    </tr>\n",
       "    <tr>\n",
       "      <th>518712</th>\n",
       "      <td>12</td>\n",
       "      <td>0.85</td>\n",
       "      <td>4</td>\n",
       "      <td>12</td>\n",
       "      <td>-1.450299</td>\n",
       "      <td>0.226284</td>\n",
       "      <td>0.376277</td>\n",
       "      <td>1</td>\n",
       "    </tr>\n",
       "    <tr>\n",
       "      <th>518713</th>\n",
       "      <td>6</td>\n",
       "      <td>2.10</td>\n",
       "      <td>4</td>\n",
       "      <td>12</td>\n",
       "      <td>-1.477244</td>\n",
       "      <td>0.090572</td>\n",
       "      <td>0.314383</td>\n",
       "      <td>1</td>\n",
       "    </tr>\n",
       "    <tr>\n",
       "      <th>518714</th>\n",
       "      <td>4</td>\n",
       "      <td>4.15</td>\n",
       "      <td>4</td>\n",
       "      <td>12</td>\n",
       "      <td>-1.479596</td>\n",
       "      <td>-0.010760</td>\n",
       "      <td>0.339355</td>\n",
       "      <td>1</td>\n",
       "    </tr>\n",
       "    <tr>\n",
       "      <th>518715</th>\n",
       "      <td>4</td>\n",
       "      <td>4.15</td>\n",
       "      <td>4</td>\n",
       "      <td>12</td>\n",
       "      <td>-1.479596</td>\n",
       "      <td>-0.010760</td>\n",
       "      <td>0.339355</td>\n",
       "      <td>1</td>\n",
       "    </tr>\n",
       "    <tr>\n",
       "      <th>518716</th>\n",
       "      <td>3</td>\n",
       "      <td>4.95</td>\n",
       "      <td>4</td>\n",
       "      <td>12</td>\n",
       "      <td>-1.481685</td>\n",
       "      <td>-0.053699</td>\n",
       "      <td>0.345559</td>\n",
       "      <td>1</td>\n",
       "    </tr>\n",
       "  </tbody>\n",
       "</table>\n",
       "<p>518717 rows × 8 columns</p>\n",
       "</div>"
      ],
      "text/plain": [
       "        Quantity  UnitPrice  DayOfWeek  Month  Component 1  Component 2  \\\n",
       "0              6       2.55          2     12    -0.723678    -0.081480   \n",
       "1              6       3.39          2     12    -0.720269    -0.110329   \n",
       "2              8       2.75          2     12    -0.712194    -0.057422   \n",
       "3              6       3.39          2     12    -0.720269    -0.110329   \n",
       "4              6       3.39          2     12    -0.720269    -0.110329   \n",
       "...          ...        ...        ...    ...          ...          ...   \n",
       "518712        12       0.85          4     12    -1.450299     0.226284   \n",
       "518713         6       2.10          4     12    -1.477244     0.090572   \n",
       "518714         4       4.15          4     12    -1.479596    -0.010760   \n",
       "518715         4       4.15          4     12    -1.479596    -0.010760   \n",
       "518716         3       4.95          4     12    -1.481685    -0.053699   \n",
       "\n",
       "        Component 3  Segment K-means PCA  \n",
       "0          0.419722                    1  \n",
       "1          0.443175                    1  \n",
       "2          0.457570                    1  \n",
       "3          0.443175                    1  \n",
       "4          0.443175                    1  \n",
       "...             ...                  ...  \n",
       "518712     0.376277                    1  \n",
       "518713     0.314383                    1  \n",
       "518714     0.339355                    1  \n",
       "518715     0.339355                    1  \n",
       "518716     0.345559                    1  \n",
       "\n",
       "[518717 rows x 8 columns]"
      ]
     },
     "execution_count": 213,
     "metadata": {},
     "output_type": "execute_result"
    }
   ],
   "source": [
    "df_segm_pca_kmean"
   ]
  },
  {
   "cell_type": "code",
   "execution_count": 215,
   "id": "4d7b0597-3cd1-4efd-a74a-04de3a0fa935",
   "metadata": {},
   "outputs": [
    {
     "data": {
      "text/html": [
       "<div>\n",
       "<style scoped>\n",
       "    .dataframe tbody tr th:only-of-type {\n",
       "        vertical-align: middle;\n",
       "    }\n",
       "\n",
       "    .dataframe tbody tr th {\n",
       "        vertical-align: top;\n",
       "    }\n",
       "\n",
       "    .dataframe thead th {\n",
       "        text-align: right;\n",
       "    }\n",
       "</style>\n",
       "<table border=\"1\" class=\"dataframe\">\n",
       "  <thead>\n",
       "    <tr style=\"text-align: right;\">\n",
       "      <th></th>\n",
       "      <th>Quantity</th>\n",
       "      <th>UnitPrice</th>\n",
       "      <th>DayOfWeek</th>\n",
       "      <th>Month</th>\n",
       "      <th>Component 1</th>\n",
       "      <th>Component 2</th>\n",
       "      <th>Component 3</th>\n",
       "    </tr>\n",
       "    <tr>\n",
       "      <th>Segment K-means PCA</th>\n",
       "      <th></th>\n",
       "      <th></th>\n",
       "      <th></th>\n",
       "      <th></th>\n",
       "      <th></th>\n",
       "      <th></th>\n",
       "      <th></th>\n",
       "    </tr>\n",
       "  </thead>\n",
       "  <tbody>\n",
       "    <tr>\n",
       "      <th>0</th>\n",
       "      <td>9.621348</td>\n",
       "      <td>3.698477</td>\n",
       "      <td>1.472577</td>\n",
       "      <td>5.091143</td>\n",
       "      <td>0.831480</td>\n",
       "      <td>-0.070243</td>\n",
       "      <td>-0.247358</td>\n",
       "    </tr>\n",
       "    <tr>\n",
       "      <th>1</th>\n",
       "      <td>8.961932</td>\n",
       "      <td>3.357405</td>\n",
       "      <td>3.296632</td>\n",
       "      <td>9.793043</td>\n",
       "      <td>-0.766170</td>\n",
       "      <td>0.049610</td>\n",
       "      <td>0.180089</td>\n",
       "    </tr>\n",
       "    <tr>\n",
       "      <th>2</th>\n",
       "      <td>747.729692</td>\n",
       "      <td>1.190042</td>\n",
       "      <td>2.130252</td>\n",
       "      <td>7.313725</td>\n",
       "      <td>4.084168</td>\n",
       "      <td>11.469583</td>\n",
       "      <td>11.811035</td>\n",
       "    </tr>\n",
       "    <tr>\n",
       "      <th>3</th>\n",
       "      <td>1.500000</td>\n",
       "      <td>1076.353729</td>\n",
       "      <td>1.940678</td>\n",
       "      <td>10.262712</td>\n",
       "      <td>3.968530</td>\n",
       "      <td>-37.025480</td>\n",
       "      <td>30.133964</td>\n",
       "    </tr>\n",
       "  </tbody>\n",
       "</table>\n",
       "</div>"
      ],
      "text/plain": [
       "                       Quantity    UnitPrice  DayOfWeek      Month  \\\n",
       "Segment K-means PCA                                                  \n",
       "0                      9.621348     3.698477   1.472577   5.091143   \n",
       "1                      8.961932     3.357405   3.296632   9.793043   \n",
       "2                    747.729692     1.190042   2.130252   7.313725   \n",
       "3                      1.500000  1076.353729   1.940678  10.262712   \n",
       "\n",
       "                     Component 1  Component 2  Component 3  \n",
       "Segment K-means PCA                                         \n",
       "0                       0.831480    -0.070243    -0.247358  \n",
       "1                      -0.766170     0.049610     0.180089  \n",
       "2                       4.084168    11.469583    11.811035  \n",
       "3                       3.968530   -37.025480    30.133964  "
      ]
     },
     "execution_count": 215,
     "metadata": {},
     "output_type": "execute_result"
    }
   ],
   "source": [
    "df_segm_pca_kmean_freq = df_segm_pca_kmean.groupby(['Segment K-means PCA']).mean()\n",
    "df_segm_pca_kmean_freq"
   ]
  },
  {
   "cell_type": "code",
   "execution_count": 217,
   "id": "125e25e5-8d5e-44c9-8f49-85c5dd2cba4e",
   "metadata": {
    "tags": []
   },
   "outputs": [
    {
     "data": {
      "text/html": [
       "<div>\n",
       "<style scoped>\n",
       "    .dataframe tbody tr th:only-of-type {\n",
       "        vertical-align: middle;\n",
       "    }\n",
       "\n",
       "    .dataframe tbody tr th {\n",
       "        vertical-align: top;\n",
       "    }\n",
       "\n",
       "    .dataframe thead th {\n",
       "        text-align: right;\n",
       "    }\n",
       "</style>\n",
       "<table border=\"1\" class=\"dataframe\">\n",
       "  <thead>\n",
       "    <tr style=\"text-align: right;\">\n",
       "      <th></th>\n",
       "      <th>Quantity</th>\n",
       "      <th>UnitPrice</th>\n",
       "      <th>DayOfWeek</th>\n",
       "      <th>Month</th>\n",
       "      <th>Component 1</th>\n",
       "      <th>Component 2</th>\n",
       "      <th>Component 3</th>\n",
       "      <th>num_obs</th>\n",
       "      <th>probability</th>\n",
       "    </tr>\n",
       "    <tr>\n",
       "      <th>Segment K-means PCA</th>\n",
       "      <th></th>\n",
       "      <th></th>\n",
       "      <th></th>\n",
       "      <th></th>\n",
       "      <th></th>\n",
       "      <th></th>\n",
       "      <th></th>\n",
       "      <th></th>\n",
       "      <th></th>\n",
       "    </tr>\n",
       "  </thead>\n",
       "  <tbody>\n",
       "    <tr>\n",
       "      <th>Seasonal-Early</th>\n",
       "      <td>9.621348</td>\n",
       "      <td>3.698477</td>\n",
       "      <td>1.472577</td>\n",
       "      <td>5.091143</td>\n",
       "      <td>0.831480</td>\n",
       "      <td>-0.070243</td>\n",
       "      <td>-0.247358</td>\n",
       "      <td>246239</td>\n",
       "      <td>0.474708</td>\n",
       "    </tr>\n",
       "    <tr>\n",
       "      <th>Seasonal-Late</th>\n",
       "      <td>8.961932</td>\n",
       "      <td>3.357405</td>\n",
       "      <td>3.296632</td>\n",
       "      <td>9.793043</td>\n",
       "      <td>-0.766170</td>\n",
       "      <td>0.049610</td>\n",
       "      <td>0.180089</td>\n",
       "      <td>271646</td>\n",
       "      <td>0.523688</td>\n",
       "    </tr>\n",
       "    <tr>\n",
       "      <th>High quantity customers</th>\n",
       "      <td>747.729692</td>\n",
       "      <td>1.190042</td>\n",
       "      <td>2.130252</td>\n",
       "      <td>7.313725</td>\n",
       "      <td>4.084168</td>\n",
       "      <td>11.469583</td>\n",
       "      <td>11.811035</td>\n",
       "      <td>714</td>\n",
       "      <td>0.001376</td>\n",
       "    </tr>\n",
       "    <tr>\n",
       "      <th>High price items</th>\n",
       "      <td>1.500000</td>\n",
       "      <td>1076.353729</td>\n",
       "      <td>1.940678</td>\n",
       "      <td>10.262712</td>\n",
       "      <td>3.968530</td>\n",
       "      <td>-37.025480</td>\n",
       "      <td>30.133964</td>\n",
       "      <td>118</td>\n",
       "      <td>0.000227</td>\n",
       "    </tr>\n",
       "  </tbody>\n",
       "</table>\n",
       "</div>"
      ],
      "text/plain": [
       "                           Quantity    UnitPrice  DayOfWeek      Month  \\\n",
       "Segment K-means PCA                                                      \n",
       "Seasonal-Early             9.621348     3.698477   1.472577   5.091143   \n",
       "Seasonal-Late              8.961932     3.357405   3.296632   9.793043   \n",
       "High quantity customers  747.729692     1.190042   2.130252   7.313725   \n",
       "High price items           1.500000  1076.353729   1.940678  10.262712   \n",
       "\n",
       "                         Component 1  Component 2  Component 3  num_obs  \\\n",
       "Segment K-means PCA                                                       \n",
       "Seasonal-Early              0.831480    -0.070243    -0.247358   246239   \n",
       "Seasonal-Late              -0.766170     0.049610     0.180089   271646   \n",
       "High quantity customers     4.084168    11.469583    11.811035      714   \n",
       "High price items            3.968530   -37.025480    30.133964      118   \n",
       "\n",
       "                         probability  \n",
       "Segment K-means PCA                   \n",
       "Seasonal-Early              0.474708  \n",
       "Seasonal-Late               0.523688  \n",
       "High quantity customers     0.001376  \n",
       "High price items            0.000227  "
      ]
     },
     "execution_count": 217,
     "metadata": {},
     "output_type": "execute_result"
    }
   ],
   "source": [
    "df_segm_pca_kmean_freq['num_obs'] = df_segm_pca_kmean[['Segment K-means PCA', 'Quantity']].groupby(['Segment K-means PCA']).count()\n",
    "df_segm_pca_kmean_freq['probability'] = df_segm_pca_kmean_freq['num_obs'] / df_segm_pca_kmean_freq['num_obs'].sum()\n",
    "df_segm_pca_kmean_freq = df_segm_pca_kmean_freq.rename({0: 'Seasonal-Early',\n",
    "                                                        1: 'Seasonal-Late',\n",
    "                                                        2: 'High quantity customers',\n",
    "                                                        3: 'High price items'})\n",
    "df_segm_pca_kmean_freq"
   ]
  },
  {
   "cell_type": "code",
   "execution_count": 219,
   "id": "a18d7855-c725-400c-8c51-d9002e537883",
   "metadata": {
    "tags": []
   },
   "outputs": [],
   "source": [
    "df_segm_pca_kmean['Legend'] = df_segm_pca_kmean['Segment K-means PCA'].map({0: 'Seasonal-Early',\n",
    "                                                        1: 'Seasonal-Late',\n",
    "                                                        2: 'High quantity customers',\n",
    "                                                        3: 'High price items'})"
   ]
  },
  {
   "cell_type": "code",
   "execution_count": 223,
   "id": "a916f190-e1c4-4141-a486-fef5b509e757",
   "metadata": {
    "tags": []
   },
   "outputs": [
    {
     "name": "stderr",
     "output_type": "stream",
     "text": [
      "C:\\Users\\olive\\AppData\\Local\\Temp\\ipykernel_15772\\3907730473.py:4: UserWarning: The palette list has more values (8) than needed (4), which may not be intended.\n",
      "  sns.scatterplot(x=x_axis, y=y_axis, hue=df_segm_pca_kmean['Legend'], palette=sns.color_palette(\"Set1\", 8))\n"
     ]
    },
    {
     "data": {
      "image/png": "[encoded data removed]",
      "text/plain": [
       "<Figure size 1000x800 with 1 Axes>"
      ]
     },
     "metadata": {},
     "output_type": "display_data"
    }
   ],
   "source": [
    "x_axis = df_segm_pca_kmean['Component 2']\n",
    "y_axis = df_segm_pca_kmean['Component 1']\n",
    "plt.figure(figsize = (10, 8))\n",
    "sns.scatterplot(x=x_axis, y=y_axis, hue=df_segm_pca_kmean['Legend'], palette=sns.color_palette(\"Set1\", 8))\n",
    "plt.title('Clusters by PCA Components')\n",
    "plt.show()"
   ]
  },
  {
   "cell_type": "markdown",
   "id": "05af3cb3-10c3-4bbe-8e5c-f1271c719a7a",
   "metadata": {},
   "source": [
    "Business Interpretation\n",
    "The PCA and K-means clustering analysis has resulted in four distinct customer segments, each with unique characteristics based on purchasing behavior. Below is an interpretation of each segment:\n",
    "\n",
    "**1. Seasonal-Early Customers**</br>\n",
    "Characteristics:\n",
    "Quantity: Moderate purchase quantities (9.62 units on average).\n",
    "Unit Price: Low average unit price ($3.70).\n",
    "Day of Week: Tend to make purchases early in the week (average DayOfWeek of 1.47).\n",
    "Month: More purchases in the earlier part of the year (average Month of 5.09, likely around spring or early summer).\n",
    "Components:\n",
    "Component 1: Positive (0.83), driven by temporal factors suggesting early-week and earlier-month purchases.\n",
    "Component 2 & 3: Neutral to slightly negative, indicating less influence from high quantity or high price behaviors.\n",
    "Segment Size: Represents 47.47% of the dataset (246,239 observations).\n",
    "Business Insight: These customers are likely driven by early seasonal promotions and tend to buy in moderate quantities at lower prices. They are responsive to sales and deals offered early in the season."
   ]
  },
  {
   "cell_type": "markdown",
   "id": "ed1ab2af-e7c8-43dd-8af3-b667897da1ae",
   "metadata": {
    "tags": []
   },
   "source": [
    "**2. Seasonal-Late Customers**</br>\n",
    "Characteristics:\n",
    "Quantity: Similar to the early group but slightly lower (8.96 units on average).\n",
    "Unit Price: Low average unit price ($3.36).\n",
    "Day of Week: Purchase activity later in the week (average DayOfWeek of 3.30).\n",
    "Month: Purchases skewed towards the latter part of the year (average Month of 9.79, around fall or early winter).\n",
    "Components:\n",
    "Component 1: Negative (-0.77), indicating late-week and late-season purchasing behavior.\n",
    "Component 2 & 3: Neutral to slightly positive, with less influence from high quantity or high price purchases.\n",
    "Segment Size: Represents 52.37% of the dataset (271,646 observations).\n",
    "Business Insight: This segment is likely influenced by end-of-season sales and promotions, purchasing later in the week and year. They may respond well to last-minute offers and discounts leading into the holiday season."
   ]
  },
  {
   "cell_type": "markdown",
   "id": "1cde7d61-fd0e-404b-bdeb-a9baa22a7650",
   "metadata": {},
   "source": [
    "**3. High Quantity Customers**</br>\n",
    "Characteristics:\n",
    "Quantity: Extremely high purchase quantities (747.73 units on average).\n",
    "Unit Price: Very low average unit price ($1.19).\n",
    "Day of Week: Purchases are spread throughout the week (average DayOfWeek of 2.13).\n",
    "Month: Purchases occur in mid-year months (average Month of 7.31).\n",
    "Components:\n",
    "Component 1: Strongly positive (4.08), driven by high quantity purchases.\n",
    "Component 2: Extremely positive (11.47), indicating a significant focus on bulk buying at low prices.\n",
    "Component 3: Positive (11.81), emphasizing the large volume of purchases.\n",
    "Segment Size: Very small segment, representing 0.14% of the dataset (714 observations).\n",
    "Business Insight: This segment consists of bulk buyers, possibly B2B customers or resellers. They are price-sensitive and buy in large quantities, making them ideal for wholesale pricing and bulk discount offers."
   ]
  },
  {
   "cell_type": "markdown",
   "id": "dc835957-8007-4988-981a-ee3d26bb32c1",
   "metadata": {},
   "source": [
    "**4. High Price Items Customers**</br>\n",
    "Characteristics:\n",
    "Quantity: Very low purchase quantities (1.5 units on average).\n",
    "Unit Price: Extremely high average unit price ($1076.35).\n",
    "Day of Week: Purchases are evenly distributed across the week (average DayOfWeek of 1.94).\n",
    "Month: Purchases tend to occur late in the year (average Month of 10.26).\n",
    "Components:\n",
    "Component 1: Highly positive (3.97), indicating purchases of expensive items.\n",
    "Component 2: Strongly negative (-37.03), showing a sharp distinction from bulk purchasing.\n",
    "Component 3: Very positive (30.13), indicating a focus on high-value items.\n",
    "Segment Size: The smallest segment, representing 0.02% of the dataset (118 observations).\n",
    "Business Insight: This segment includes customers who purchase high-ticket items. They are likely to respond to luxury branding, premium services, and personalized experiences. Targeted marketing for exclusive products and VIP offers would be effective.\n",
    "Communicate the Results\n",
    "Executive Summary\n",
    "The customer segmentation analysis revealed four distinct groups: Seasonal-Early, Seasonal-Late, High Quantity, and High Price Items customers. Each segment exhibits unique purchasing behaviors driven by factors such as seasonality, purchase volume, and price sensitivity. These insights can be leveraged to tailor marketing strategies, optimize pricing models, and enhance customer engagement."
   ]
  },
  {
   "cell_type": "markdown",
   "id": "2652bbe0-206d-41f4-9a34-e3250891786d",
   "metadata": {},
   "source": [
    "**Recommendations**</br>\n",
    "Seasonal-Early Customers: Focus on early-season promotions, targeting these customers with deals and discounts in the spring and early summer.</br>\n",
    "Seasonal-Late Customers: Implement end-of-season sales and holiday promotions to capture these late-season buyers. Consider pushing last-minute offers.</br>\n",
    "High Quantity Customers: Develop wholesale pricing models and bulk discount programs to cater to these price-sensitive, high-volume buyers.</br>\n",
    "High Price Items Customers: Offer premium services, exclusive deals, and personalized marketing to attract and retain these high-value customers.</br>\n",
    "\n",
    "**Next Steps**\n",
    "Targeted Campaigns: Launch personalized marketing campaigns for each segment to increase customer engagement and drive sales.\n",
    "Product Development: Adjust product offerings and inventory based on the demand patterns observed in each segment.\n",
    "Monitor and Iterate: Continuously monitor customer behavior within these segments and adjust strategies as needed to maintain relevance and effectiveness."
   ]
  }
 ],
 "metadata": {
  "kernelspec": {
   "display_name": "Python 3 (ipykernel)",
   "language": "python",
   "name": "python3"
  },
  "language_info": {
   "codemirror_mode": {
    "name": "ipython",
    "version": 3
   },
   "file_extension": ".py",
   "mimetype": "text/x-python",
   "name": "python",
   "nbconvert_exporter": "python",
   "pygments_lexer": "ipython3",
   "version": "3.11.7"
  }
 },
 "nbformat": 4,
 "nbformat_minor": 5
}
